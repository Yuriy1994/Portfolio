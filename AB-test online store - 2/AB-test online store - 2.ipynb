{
 "cells": [
  {
   "cell_type": "markdown",
   "id": "13413d82",
   "metadata": {},
   "source": [
    "# Проект \"Анализ A/B-теста для интернет-магазина\""
   ]
  },
  {
   "cell_type": "markdown",
   "id": "d250e462",
   "metadata": {
    "toc": true
   },
   "source": [
    "<h1>Оглавление<span class=\"tocSkip\"></span></h1>\n",
    "<div class=\"toc\"><ul class=\"toc-item\"><li><span><a href=\"#Цели-и-задачи-проекта\" data-toc-modified-id=\"Цели-и-задачи-проекта-1\"><span class=\"toc-item-num\">1&nbsp;&nbsp;</span>Цели и задачи проекта</a></span></li><li><span><a href=\"#Описание-данных\" data-toc-modified-id=\"Описание-данных-2\"><span class=\"toc-item-num\">2&nbsp;&nbsp;</span>Описание данных</a></span></li><li><span><a href=\"#Загрузка,-обзор-и-подготовка-данных\" data-toc-modified-id=\"Загрузка,-обзор-и-подготовка-данных-3\"><span class=\"toc-item-num\">3&nbsp;&nbsp;</span>Загрузка, обзор и подготовка данных</a></span></li><li><span><a href=\"#Приоритезация-гипотез\" data-toc-modified-id=\"Приоритезация-гипотез-4\"><span class=\"toc-item-num\">4&nbsp;&nbsp;</span>Приоритезация гипотез</a></span></li><li><span><a href=\"#Анализ-A/B-теста\" data-toc-modified-id=\"Анализ-A/B-теста-5\"><span class=\"toc-item-num\">5&nbsp;&nbsp;</span>Анализ A/B-теста</a></span><ul class=\"toc-item\"><li><span><a href=\"#Параметры-A/B-теста\" data-toc-modified-id=\"Параметры-A/B-теста-5.1\"><span class=\"toc-item-num\">5.1&nbsp;&nbsp;</span>Параметры A/B-теста</a></span></li><li><span><a href=\"#Предварительная-проверка-выборок\" data-toc-modified-id=\"Предварительная-проверка-выборок-5.2\"><span class=\"toc-item-num\">5.2&nbsp;&nbsp;</span>Предварительная проверка выборок</a></span></li><li><span><a href=\"#Анализ-кумулятивных-значений\" data-toc-modified-id=\"Анализ-кумулятивных-значений-5.3\"><span class=\"toc-item-num\">5.3&nbsp;&nbsp;</span>Анализ кумулятивных значений</a></span></li><li><span><a href=\"#Анализ-выбросов-в-данных\" data-toc-modified-id=\"Анализ-выбросов-в-данных-5.4\"><span class=\"toc-item-num\">5.4&nbsp;&nbsp;</span>Анализ выбросов в данных</a></span></li><li><span><a href=\"#Сравнительный-анализ-неочищенных-и-очищенных-данных\" data-toc-modified-id=\"Сравнительный-анализ-неочищенных-и-очищенных-данных-5.5\"><span class=\"toc-item-num\">5.5&nbsp;&nbsp;</span>Сравнительный анализ неочищенных и очищенных данных</a></span></li><li><span><a href=\"#Дополнительный-раздел.-Графики-без-аномалий\" data-toc-modified-id=\"Дополнительный-раздел.-Графики-без-аномалий-5.6\"><span class=\"toc-item-num\">5.6&nbsp;&nbsp;</span>Дополнительный раздел. Графики без аномалий</a></span></li></ul></li><li><span><a href=\"#Выводы-и-рекомендации\" data-toc-modified-id=\"Выводы-и-рекомендации-6\"><span class=\"toc-item-num\">6&nbsp;&nbsp;</span>Выводы и рекомендации</a></span></li></ul></div>"
   ]
  },
  {
   "cell_type": "markdown",
   "id": "4975a18f",
   "metadata": {},
   "source": [
    "## Цели и задачи проекта"
   ]
  },
  {
   "cell_type": "markdown",
   "id": "30140774",
   "metadata": {},
   "source": [
    "**Описание проекта**:  \n",
    "Подготовлен список гипотез для увеличения выручки. Необходимо приоритизировать гипотезы и проанализировать результаты одного из A/B тестов.\n",
    "\n",
    "**Цель исследования**:    \n",
    "Принять решение об остановке или продолжении A/B теста и его успешности.\n",
    "\n",
    "**Инструменты**:  \n",
    "- Yupyter Notebook (Anaconda 2.3.2, Python 3.9.13)\n",
    "- Локальное окружение [da_practicum_env.yml](https://code.s3.yandex.net/data-analyst/da_practicum_env.yml)\n",
    "- Расширение toc2 для Jupyter Notebook\n",
    "\n",
    "**Рабочие файлы**:  \n",
    "- `hypothesis.csv` — информация о гипотезах\n",
    "- `orders.csv` — информация о заказах\n",
    "- `visitors.csv` — информация о количестве посетителей\n",
    "\n",
    "**Ход исследования**:   \n",
    "Исследование пройдет в 5 этапов:\n",
    "1. **Загрузка, обзор и подготовка данных** - Ознакомимся с данными и подготовим их к анализу\n",
    "2. **Приоритезация гипотез** - Приоритезируем гипотезы во фреймворках ICE и RICE\n",
    "3. **Анализ кумулятивных значений** - Проанализируем кумулятивные значения выручки, среднего чека и количества заказов по группам A/B-теста\n",
    "4. **Анализ выбросов в данных** - Сделаем оценку аномальных значений в данных и устраним их\n",
    "5. **Сравнительный анализ неочищенных и очищенных данных** - Проанализируем с помощью статистических тестов различия в среднем чеке и количестве заказов по группам A/B-теста по неочищенным и очищенным от выбросов данным\n",
    "6. **Дополнительный раздел. Графики без аномалий** - Построим новые графики кумулятивных параметров без аномалий там, где это возможно"
   ]
  },
  {
   "cell_type": "markdown",
   "id": "ccbc38f2",
   "metadata": {},
   "source": [
    "## Описание данных"
   ]
  },
  {
   "cell_type": "markdown",
   "id": "49bdda29",
   "metadata": {},
   "source": [
    "Структура датасета `hypothesis.csv`:\n",
    "\n",
    "- `Hypothesis` — краткое описание гипотезы;\n",
    "- `Reach` — охват пользователей по 10-балльной шкале;\n",
    "- `Impact` — влияние на пользователей по 10-балльной шкале;\n",
    "- `Confidence` — уверенность в гипотезе по 10-балльной шкале;\n",
    "- `Efforts` — затраты ресурсов на проверку гипотезы по 10-балльной шкале. Чем больше значение Efforts, тем дороже проверка гипотезы.\n",
    "\n",
    "Структура датасета `orders.csv`:\n",
    "- `transactionId` — идентификатор заказа;\n",
    "- `visitorId` — идентификатор пользователя, совершившего заказ;\n",
    "- `date` — дата, когда был совершён заказ;\n",
    "- `revenue` — выручка заказа;\n",
    "- `group` — группа A/B-теста, в которую попал заказ.\n",
    "\n",
    "Структура датасета `visitors.csv`:\n",
    "- `date` — дата;\n",
    "- `group` — группа A/B-теста;\n",
    "- `visitors` — количество пользователей в указанную дату в указанной группе A/B-теста\n"
   ]
  },
  {
   "cell_type": "markdown",
   "id": "ee8f7973",
   "metadata": {},
   "source": [
    "## Загрузка, обзор и подготовка данных"
   ]
  },
  {
   "cell_type": "markdown",
   "id": "3e7a2c9f",
   "metadata": {},
   "source": [
    "Импортируем библиотеки"
   ]
  },
  {
   "cell_type": "code",
   "execution_count": 1,
   "id": "e0165f50",
   "metadata": {},
   "outputs": [],
   "source": [
    "import pandas as pd\n",
    "from scipy import stats as st\n",
    "import numpy as np\n",
    "import datetime as dt\n",
    "from matplotlib import pyplot as plt\n",
    "import os"
   ]
  },
  {
   "cell_type": "markdown",
   "id": "d86f9c2a",
   "metadata": {},
   "source": [
    "Загружаем данные"
   ]
  },
  {
   "cell_type": "markdown",
   "id": "38e1fb9d",
   "metadata": {},
   "source": [
    "*Внимание: датасеты защищены авторским правом Яндекс Практикума и не приложены к проекту.*"
   ]
  },
  {
   "cell_type": "code",
   "execution_count": 2,
   "id": "c8a1998c",
   "metadata": {},
   "outputs": [],
   "source": [
    "# функция для загрузки с запасным путем\n",
    "\n",
    "def try_ex(way_1,way_2):\n",
    "    try:\n",
    "        df = pd.read_csv(way_1, sep=',')\n",
    "    except:\n",
    "        df = pd.read_csv(way_2, sep=',')\n",
    "    return df\n",
    "\n",
    "# загружаем данные\n",
    "\n",
    "visitors = try_ex('visitors.csv',\n",
    "                '')\n",
    "orders = try_ex('orders.csv',\n",
    "                'https://code.s3.yandex.net/datasets/orders.csv')\n",
    "hypothesis = try_ex('hypothesis.csv',\n",
    "               '')"
   ]
  },
  {
   "cell_type": "markdown",
   "id": "e4b251a1",
   "metadata": {},
   "source": [
    "Делаем обзор данных"
   ]
  },
  {
   "cell_type": "code",
   "execution_count": 3,
   "id": "e0a71c9e",
   "metadata": {},
   "outputs": [],
   "source": [
    "# функция для обзора\n",
    "\n",
    "def data_review (data_import):\n",
    "    print(data_import.info())\n",
    "    pd.set_option('display.max_columns', None)\n",
    "    print(display(data_import.head()))                     \n",
    "    print('')\n",
    "    print('Пропуски:')\n",
    "    print(data_import.isna().sum())\n",
    "    print('')\n",
    "    print('Явные дубликаты:',data_import.duplicated().sum())\n",
    "    print('')\n",
    "    print('Основные статистики:')\n",
    "    print(display(data_import.describe()))"
   ]
  },
  {
   "cell_type": "code",
   "execution_count": 4,
   "id": "b769349d",
   "metadata": {
    "scrolled": false
   },
   "outputs": [
    {
     "name": "stdout",
     "output_type": "stream",
     "text": [
      "<class 'pandas.core.frame.DataFrame'>\n",
      "RangeIndex: 9 entries, 0 to 8\n",
      "Data columns (total 5 columns):\n",
      " #   Column      Non-Null Count  Dtype \n",
      "---  ------      --------------  ----- \n",
      " 0   Hypothesis  9 non-null      object\n",
      " 1   Reach       9 non-null      int64 \n",
      " 2   Impact      9 non-null      int64 \n",
      " 3   Confidence  9 non-null      int64 \n",
      " 4   Efforts     9 non-null      int64 \n",
      "dtypes: int64(4), object(1)\n",
      "memory usage: 488.0+ bytes\n",
      "None\n"
     ]
    },
    {
     "data": {
      "text/html": [
       "<div>\n",
       "<style scoped>\n",
       "    .dataframe tbody tr th:only-of-type {\n",
       "        vertical-align: middle;\n",
       "    }\n",
       "\n",
       "    .dataframe tbody tr th {\n",
       "        vertical-align: top;\n",
       "    }\n",
       "\n",
       "    .dataframe thead th {\n",
       "        text-align: right;\n",
       "    }\n",
       "</style>\n",
       "<table border=\"1\" class=\"dataframe\">\n",
       "  <thead>\n",
       "    <tr style=\"text-align: right;\">\n",
       "      <th></th>\n",
       "      <th>Hypothesis</th>\n",
       "      <th>Reach</th>\n",
       "      <th>Impact</th>\n",
       "      <th>Confidence</th>\n",
       "      <th>Efforts</th>\n",
       "    </tr>\n",
       "  </thead>\n",
       "  <tbody>\n",
       "    <tr>\n",
       "      <th>0</th>\n",
       "      <td>Добавить два новых канала привлечения трафика,...</td>\n",
       "      <td>3</td>\n",
       "      <td>10</td>\n",
       "      <td>8</td>\n",
       "      <td>6</td>\n",
       "    </tr>\n",
       "    <tr>\n",
       "      <th>1</th>\n",
       "      <td>Запустить собственную службу доставки, что сок...</td>\n",
       "      <td>2</td>\n",
       "      <td>5</td>\n",
       "      <td>4</td>\n",
       "      <td>10</td>\n",
       "    </tr>\n",
       "    <tr>\n",
       "      <th>2</th>\n",
       "      <td>Добавить блоки рекомендаций товаров на сайт ин...</td>\n",
       "      <td>8</td>\n",
       "      <td>3</td>\n",
       "      <td>7</td>\n",
       "      <td>3</td>\n",
       "    </tr>\n",
       "    <tr>\n",
       "      <th>3</th>\n",
       "      <td>Изменить структура категорий, что увеличит кон...</td>\n",
       "      <td>8</td>\n",
       "      <td>3</td>\n",
       "      <td>3</td>\n",
       "      <td>8</td>\n",
       "    </tr>\n",
       "    <tr>\n",
       "      <th>4</th>\n",
       "      <td>Изменить цвет фона главной страницы, чтобы уве...</td>\n",
       "      <td>3</td>\n",
       "      <td>1</td>\n",
       "      <td>1</td>\n",
       "      <td>1</td>\n",
       "    </tr>\n",
       "  </tbody>\n",
       "</table>\n",
       "</div>"
      ],
      "text/plain": [
       "                                          Hypothesis  Reach  Impact  \\\n",
       "0  Добавить два новых канала привлечения трафика,...      3      10   \n",
       "1  Запустить собственную службу доставки, что сок...      2       5   \n",
       "2  Добавить блоки рекомендаций товаров на сайт ин...      8       3   \n",
       "3  Изменить структура категорий, что увеличит кон...      8       3   \n",
       "4  Изменить цвет фона главной страницы, чтобы уве...      3       1   \n",
       "\n",
       "   Confidence  Efforts  \n",
       "0           8        6  \n",
       "1           4       10  \n",
       "2           7        3  \n",
       "3           3        8  \n",
       "4           1        1  "
      ]
     },
     "metadata": {},
     "output_type": "display_data"
    },
    {
     "name": "stdout",
     "output_type": "stream",
     "text": [
      "None\n",
      "\n",
      "Пропуски:\n",
      "Hypothesis    0\n",
      "Reach         0\n",
      "Impact        0\n",
      "Confidence    0\n",
      "Efforts       0\n",
      "dtype: int64\n",
      "\n",
      "Явные дубликаты: 0\n",
      "\n",
      "Основные статистики:\n"
     ]
    },
    {
     "data": {
      "text/html": [
       "<div>\n",
       "<style scoped>\n",
       "    .dataframe tbody tr th:only-of-type {\n",
       "        vertical-align: middle;\n",
       "    }\n",
       "\n",
       "    .dataframe tbody tr th {\n",
       "        vertical-align: top;\n",
       "    }\n",
       "\n",
       "    .dataframe thead th {\n",
       "        text-align: right;\n",
       "    }\n",
       "</style>\n",
       "<table border=\"1\" class=\"dataframe\">\n",
       "  <thead>\n",
       "    <tr style=\"text-align: right;\">\n",
       "      <th></th>\n",
       "      <th>Reach</th>\n",
       "      <th>Impact</th>\n",
       "      <th>Confidence</th>\n",
       "      <th>Efforts</th>\n",
       "    </tr>\n",
       "  </thead>\n",
       "  <tbody>\n",
       "    <tr>\n",
       "      <th>count</th>\n",
       "      <td>9.000000</td>\n",
       "      <td>9.000000</td>\n",
       "      <td>9.000000</td>\n",
       "      <td>9.000000</td>\n",
       "    </tr>\n",
       "    <tr>\n",
       "      <th>mean</th>\n",
       "      <td>4.777778</td>\n",
       "      <td>4.777778</td>\n",
       "      <td>5.555556</td>\n",
       "      <td>4.888889</td>\n",
       "    </tr>\n",
       "    <tr>\n",
       "      <th>std</th>\n",
       "      <td>3.153481</td>\n",
       "      <td>3.192874</td>\n",
       "      <td>3.045944</td>\n",
       "      <td>2.803767</td>\n",
       "    </tr>\n",
       "    <tr>\n",
       "      <th>min</th>\n",
       "      <td>1.000000</td>\n",
       "      <td>1.000000</td>\n",
       "      <td>1.000000</td>\n",
       "      <td>1.000000</td>\n",
       "    </tr>\n",
       "    <tr>\n",
       "      <th>25%</th>\n",
       "      <td>3.000000</td>\n",
       "      <td>3.000000</td>\n",
       "      <td>3.000000</td>\n",
       "      <td>3.000000</td>\n",
       "    </tr>\n",
       "    <tr>\n",
       "      <th>50%</th>\n",
       "      <td>3.000000</td>\n",
       "      <td>3.000000</td>\n",
       "      <td>7.000000</td>\n",
       "      <td>5.000000</td>\n",
       "    </tr>\n",
       "    <tr>\n",
       "      <th>75%</th>\n",
       "      <td>8.000000</td>\n",
       "      <td>7.000000</td>\n",
       "      <td>8.000000</td>\n",
       "      <td>6.000000</td>\n",
       "    </tr>\n",
       "    <tr>\n",
       "      <th>max</th>\n",
       "      <td>10.000000</td>\n",
       "      <td>10.000000</td>\n",
       "      <td>9.000000</td>\n",
       "      <td>10.000000</td>\n",
       "    </tr>\n",
       "  </tbody>\n",
       "</table>\n",
       "</div>"
      ],
      "text/plain": [
       "           Reach     Impact  Confidence    Efforts\n",
       "count   9.000000   9.000000    9.000000   9.000000\n",
       "mean    4.777778   4.777778    5.555556   4.888889\n",
       "std     3.153481   3.192874    3.045944   2.803767\n",
       "min     1.000000   1.000000    1.000000   1.000000\n",
       "25%     3.000000   3.000000    3.000000   3.000000\n",
       "50%     3.000000   3.000000    7.000000   5.000000\n",
       "75%     8.000000   7.000000    8.000000   6.000000\n",
       "max    10.000000  10.000000    9.000000  10.000000"
      ]
     },
     "metadata": {},
     "output_type": "display_data"
    },
    {
     "name": "stdout",
     "output_type": "stream",
     "text": [
      "None\n",
      "<class 'pandas.core.frame.DataFrame'>\n",
      "RangeIndex: 62 entries, 0 to 61\n",
      "Data columns (total 3 columns):\n",
      " #   Column    Non-Null Count  Dtype \n",
      "---  ------    --------------  ----- \n",
      " 0   date      62 non-null     object\n",
      " 1   group     62 non-null     object\n",
      " 2   visitors  62 non-null     int64 \n",
      "dtypes: int64(1), object(2)\n",
      "memory usage: 1.6+ KB\n",
      "None\n"
     ]
    },
    {
     "data": {
      "text/html": [
       "<div>\n",
       "<style scoped>\n",
       "    .dataframe tbody tr th:only-of-type {\n",
       "        vertical-align: middle;\n",
       "    }\n",
       "\n",
       "    .dataframe tbody tr th {\n",
       "        vertical-align: top;\n",
       "    }\n",
       "\n",
       "    .dataframe thead th {\n",
       "        text-align: right;\n",
       "    }\n",
       "</style>\n",
       "<table border=\"1\" class=\"dataframe\">\n",
       "  <thead>\n",
       "    <tr style=\"text-align: right;\">\n",
       "      <th></th>\n",
       "      <th>date</th>\n",
       "      <th>group</th>\n",
       "      <th>visitors</th>\n",
       "    </tr>\n",
       "  </thead>\n",
       "  <tbody>\n",
       "    <tr>\n",
       "      <th>0</th>\n",
       "      <td>2019-08-01</td>\n",
       "      <td>A</td>\n",
       "      <td>719</td>\n",
       "    </tr>\n",
       "    <tr>\n",
       "      <th>1</th>\n",
       "      <td>2019-08-02</td>\n",
       "      <td>A</td>\n",
       "      <td>619</td>\n",
       "    </tr>\n",
       "    <tr>\n",
       "      <th>2</th>\n",
       "      <td>2019-08-03</td>\n",
       "      <td>A</td>\n",
       "      <td>507</td>\n",
       "    </tr>\n",
       "    <tr>\n",
       "      <th>3</th>\n",
       "      <td>2019-08-04</td>\n",
       "      <td>A</td>\n",
       "      <td>717</td>\n",
       "    </tr>\n",
       "    <tr>\n",
       "      <th>4</th>\n",
       "      <td>2019-08-05</td>\n",
       "      <td>A</td>\n",
       "      <td>756</td>\n",
       "    </tr>\n",
       "  </tbody>\n",
       "</table>\n",
       "</div>"
      ],
      "text/plain": [
       "         date group  visitors\n",
       "0  2019-08-01     A       719\n",
       "1  2019-08-02     A       619\n",
       "2  2019-08-03     A       507\n",
       "3  2019-08-04     A       717\n",
       "4  2019-08-05     A       756"
      ]
     },
     "metadata": {},
     "output_type": "display_data"
    },
    {
     "name": "stdout",
     "output_type": "stream",
     "text": [
      "None\n",
      "\n",
      "Пропуски:\n",
      "date        0\n",
      "group       0\n",
      "visitors    0\n",
      "dtype: int64\n",
      "\n",
      "Явные дубликаты: 0\n",
      "\n",
      "Основные статистики:\n"
     ]
    },
    {
     "data": {
      "text/html": [
       "<div>\n",
       "<style scoped>\n",
       "    .dataframe tbody tr th:only-of-type {\n",
       "        vertical-align: middle;\n",
       "    }\n",
       "\n",
       "    .dataframe tbody tr th {\n",
       "        vertical-align: top;\n",
       "    }\n",
       "\n",
       "    .dataframe thead th {\n",
       "        text-align: right;\n",
       "    }\n",
       "</style>\n",
       "<table border=\"1\" class=\"dataframe\">\n",
       "  <thead>\n",
       "    <tr style=\"text-align: right;\">\n",
       "      <th></th>\n",
       "      <th>visitors</th>\n",
       "    </tr>\n",
       "  </thead>\n",
       "  <tbody>\n",
       "    <tr>\n",
       "      <th>count</th>\n",
       "      <td>62.000000</td>\n",
       "    </tr>\n",
       "    <tr>\n",
       "      <th>mean</th>\n",
       "      <td>607.290323</td>\n",
       "    </tr>\n",
       "    <tr>\n",
       "      <th>std</th>\n",
       "      <td>114.400560</td>\n",
       "    </tr>\n",
       "    <tr>\n",
       "      <th>min</th>\n",
       "      <td>361.000000</td>\n",
       "    </tr>\n",
       "    <tr>\n",
       "      <th>25%</th>\n",
       "      <td>534.000000</td>\n",
       "    </tr>\n",
       "    <tr>\n",
       "      <th>50%</th>\n",
       "      <td>624.500000</td>\n",
       "    </tr>\n",
       "    <tr>\n",
       "      <th>75%</th>\n",
       "      <td>710.500000</td>\n",
       "    </tr>\n",
       "    <tr>\n",
       "      <th>max</th>\n",
       "      <td>770.000000</td>\n",
       "    </tr>\n",
       "  </tbody>\n",
       "</table>\n",
       "</div>"
      ],
      "text/plain": [
       "         visitors\n",
       "count   62.000000\n",
       "mean   607.290323\n",
       "std    114.400560\n",
       "min    361.000000\n",
       "25%    534.000000\n",
       "50%    624.500000\n",
       "75%    710.500000\n",
       "max    770.000000"
      ]
     },
     "metadata": {},
     "output_type": "display_data"
    },
    {
     "name": "stdout",
     "output_type": "stream",
     "text": [
      "None\n",
      "<class 'pandas.core.frame.DataFrame'>\n",
      "RangeIndex: 1197 entries, 0 to 1196\n",
      "Data columns (total 5 columns):\n",
      " #   Column         Non-Null Count  Dtype \n",
      "---  ------         --------------  ----- \n",
      " 0   transactionId  1197 non-null   int64 \n",
      " 1   visitorId      1197 non-null   int64 \n",
      " 2   date           1197 non-null   object\n",
      " 3   revenue        1197 non-null   int64 \n",
      " 4   group          1197 non-null   object\n",
      "dtypes: int64(3), object(2)\n",
      "memory usage: 46.9+ KB\n",
      "None\n"
     ]
    },
    {
     "data": {
      "text/html": [
       "<div>\n",
       "<style scoped>\n",
       "    .dataframe tbody tr th:only-of-type {\n",
       "        vertical-align: middle;\n",
       "    }\n",
       "\n",
       "    .dataframe tbody tr th {\n",
       "        vertical-align: top;\n",
       "    }\n",
       "\n",
       "    .dataframe thead th {\n",
       "        text-align: right;\n",
       "    }\n",
       "</style>\n",
       "<table border=\"1\" class=\"dataframe\">\n",
       "  <thead>\n",
       "    <tr style=\"text-align: right;\">\n",
       "      <th></th>\n",
       "      <th>transactionId</th>\n",
       "      <th>visitorId</th>\n",
       "      <th>date</th>\n",
       "      <th>revenue</th>\n",
       "      <th>group</th>\n",
       "    </tr>\n",
       "  </thead>\n",
       "  <tbody>\n",
       "    <tr>\n",
       "      <th>0</th>\n",
       "      <td>3667963787</td>\n",
       "      <td>3312258926</td>\n",
       "      <td>2019-08-15</td>\n",
       "      <td>1650</td>\n",
       "      <td>B</td>\n",
       "    </tr>\n",
       "    <tr>\n",
       "      <th>1</th>\n",
       "      <td>2804400009</td>\n",
       "      <td>3642806036</td>\n",
       "      <td>2019-08-15</td>\n",
       "      <td>730</td>\n",
       "      <td>B</td>\n",
       "    </tr>\n",
       "    <tr>\n",
       "      <th>2</th>\n",
       "      <td>2961555356</td>\n",
       "      <td>4069496402</td>\n",
       "      <td>2019-08-15</td>\n",
       "      <td>400</td>\n",
       "      <td>A</td>\n",
       "    </tr>\n",
       "    <tr>\n",
       "      <th>3</th>\n",
       "      <td>3797467345</td>\n",
       "      <td>1196621759</td>\n",
       "      <td>2019-08-15</td>\n",
       "      <td>9759</td>\n",
       "      <td>B</td>\n",
       "    </tr>\n",
       "    <tr>\n",
       "      <th>4</th>\n",
       "      <td>2282983706</td>\n",
       "      <td>2322279887</td>\n",
       "      <td>2019-08-15</td>\n",
       "      <td>2308</td>\n",
       "      <td>B</td>\n",
       "    </tr>\n",
       "  </tbody>\n",
       "</table>\n",
       "</div>"
      ],
      "text/plain": [
       "   transactionId   visitorId        date  revenue group\n",
       "0     3667963787  3312258926  2019-08-15     1650     B\n",
       "1     2804400009  3642806036  2019-08-15      730     B\n",
       "2     2961555356  4069496402  2019-08-15      400     A\n",
       "3     3797467345  1196621759  2019-08-15     9759     B\n",
       "4     2282983706  2322279887  2019-08-15     2308     B"
      ]
     },
     "metadata": {},
     "output_type": "display_data"
    },
    {
     "name": "stdout",
     "output_type": "stream",
     "text": [
      "None\n",
      "\n",
      "Пропуски:\n",
      "transactionId    0\n",
      "visitorId        0\n",
      "date             0\n",
      "revenue          0\n",
      "group            0\n",
      "dtype: int64\n",
      "\n",
      "Явные дубликаты: 0\n",
      "\n",
      "Основные статистики:\n"
     ]
    },
    {
     "data": {
      "text/html": [
       "<div>\n",
       "<style scoped>\n",
       "    .dataframe tbody tr th:only-of-type {\n",
       "        vertical-align: middle;\n",
       "    }\n",
       "\n",
       "    .dataframe tbody tr th {\n",
       "        vertical-align: top;\n",
       "    }\n",
       "\n",
       "    .dataframe thead th {\n",
       "        text-align: right;\n",
       "    }\n",
       "</style>\n",
       "<table border=\"1\" class=\"dataframe\">\n",
       "  <thead>\n",
       "    <tr style=\"text-align: right;\">\n",
       "      <th></th>\n",
       "      <th>transactionId</th>\n",
       "      <th>visitorId</th>\n",
       "      <th>revenue</th>\n",
       "    </tr>\n",
       "  </thead>\n",
       "  <tbody>\n",
       "    <tr>\n",
       "      <th>count</th>\n",
       "      <td>1.197000e+03</td>\n",
       "      <td>1.197000e+03</td>\n",
       "      <td>1.197000e+03</td>\n",
       "    </tr>\n",
       "    <tr>\n",
       "      <th>mean</th>\n",
       "      <td>2.155621e+09</td>\n",
       "      <td>2.165960e+09</td>\n",
       "      <td>8.348006e+03</td>\n",
       "    </tr>\n",
       "    <tr>\n",
       "      <th>std</th>\n",
       "      <td>1.229085e+09</td>\n",
       "      <td>1.236014e+09</td>\n",
       "      <td>3.919113e+04</td>\n",
       "    </tr>\n",
       "    <tr>\n",
       "      <th>min</th>\n",
       "      <td>1.062393e+06</td>\n",
       "      <td>5.114589e+06</td>\n",
       "      <td>5.000000e+01</td>\n",
       "    </tr>\n",
       "    <tr>\n",
       "      <th>25%</th>\n",
       "      <td>1.166776e+09</td>\n",
       "      <td>1.111826e+09</td>\n",
       "      <td>1.220000e+03</td>\n",
       "    </tr>\n",
       "    <tr>\n",
       "      <th>50%</th>\n",
       "      <td>2.145194e+09</td>\n",
       "      <td>2.217985e+09</td>\n",
       "      <td>2.978000e+03</td>\n",
       "    </tr>\n",
       "    <tr>\n",
       "      <th>75%</th>\n",
       "      <td>3.237740e+09</td>\n",
       "      <td>3.177606e+09</td>\n",
       "      <td>8.290000e+03</td>\n",
       "    </tr>\n",
       "    <tr>\n",
       "      <th>max</th>\n",
       "      <td>4.293856e+09</td>\n",
       "      <td>4.283872e+09</td>\n",
       "      <td>1.294500e+06</td>\n",
       "    </tr>\n",
       "  </tbody>\n",
       "</table>\n",
       "</div>"
      ],
      "text/plain": [
       "       transactionId     visitorId       revenue\n",
       "count   1.197000e+03  1.197000e+03  1.197000e+03\n",
       "mean    2.155621e+09  2.165960e+09  8.348006e+03\n",
       "std     1.229085e+09  1.236014e+09  3.919113e+04\n",
       "min     1.062393e+06  5.114589e+06  5.000000e+01\n",
       "25%     1.166776e+09  1.111826e+09  1.220000e+03\n",
       "50%     2.145194e+09  2.217985e+09  2.978000e+03\n",
       "75%     3.237740e+09  3.177606e+09  8.290000e+03\n",
       "max     4.293856e+09  4.283872e+09  1.294500e+06"
      ]
     },
     "metadata": {},
     "output_type": "display_data"
    },
    {
     "name": "stdout",
     "output_type": "stream",
     "text": [
      "None\n"
     ]
    }
   ],
   "source": [
    "# делаем обзор\n",
    "\n",
    "data_review(hypothesis)\n",
    "data_review(visitors)\n",
    "data_review(orders)"
   ]
  },
  {
   "cell_type": "markdown",
   "id": "f6c2e102",
   "metadata": {},
   "source": [
    "Выводы о проблемах с данными:\n",
    "- Пропусков нет\n",
    "- Явных дубликатов нет\n",
    "- Можно переименовать некоторые столбцы\n",
    "- Типы данных соответствуют своим значениям, кроме колонок со временем. Их необходимо привести к типу datetime"
   ]
  },
  {
   "cell_type": "markdown",
   "id": "cedb6a77",
   "metadata": {},
   "source": [
    "Выполняем предобработку данных: меняем типы данных и имена столбцов"
   ]
  },
  {
   "cell_type": "code",
   "execution_count": 5,
   "id": "fa17fc35",
   "metadata": {},
   "outputs": [],
   "source": [
    "# приводим столбцы с датой к типу datetime\n",
    "\n",
    "orders['date'] = orders['date'].map(\n",
    "    lambda x: dt.datetime.strptime(x, '%Y-%m-%d'))\n",
    "visitors['date'] = visitors['date'].map(\n",
    "    lambda x: dt.datetime.strptime(x, '%Y-%m-%d'))"
   ]
  },
  {
   "cell_type": "code",
   "execution_count": 6,
   "id": "6cba5d93",
   "metadata": {},
   "outputs": [],
   "source": [
    "# переименуем столбцы\n",
    "hypothesis.columns = hypothesis.columns.str.lower()"
   ]
  },
  {
   "cell_type": "markdown",
   "id": "844161b4",
   "metadata": {},
   "source": [
    "## Приоритезация гипотез"
   ]
  },
  {
   "cell_type": "markdown",
   "id": "24b919ac",
   "metadata": {},
   "source": [
    "Посмотрим на датасет c гипотезами"
   ]
  },
  {
   "cell_type": "code",
   "execution_count": 7,
   "id": "53e4d9e8",
   "metadata": {},
   "outputs": [
    {
     "data": {
      "text/html": [
       "<div>\n",
       "<style scoped>\n",
       "    .dataframe tbody tr th:only-of-type {\n",
       "        vertical-align: middle;\n",
       "    }\n",
       "\n",
       "    .dataframe tbody tr th {\n",
       "        vertical-align: top;\n",
       "    }\n",
       "\n",
       "    .dataframe thead th {\n",
       "        text-align: right;\n",
       "    }\n",
       "</style>\n",
       "<table border=\"1\" class=\"dataframe\">\n",
       "  <thead>\n",
       "    <tr style=\"text-align: right;\">\n",
       "      <th></th>\n",
       "      <th>hypothesis</th>\n",
       "      <th>reach</th>\n",
       "      <th>impact</th>\n",
       "      <th>confidence</th>\n",
       "      <th>efforts</th>\n",
       "    </tr>\n",
       "  </thead>\n",
       "  <tbody>\n",
       "    <tr>\n",
       "      <th>0</th>\n",
       "      <td>Добавить два новых канала привлечения трафика, что позволит привлекать на 30% больше пользователей</td>\n",
       "      <td>3</td>\n",
       "      <td>10</td>\n",
       "      <td>8</td>\n",
       "      <td>6</td>\n",
       "    </tr>\n",
       "    <tr>\n",
       "      <th>1</th>\n",
       "      <td>Запустить собственную службу доставки, что сократит срок доставки заказов</td>\n",
       "      <td>2</td>\n",
       "      <td>5</td>\n",
       "      <td>4</td>\n",
       "      <td>10</td>\n",
       "    </tr>\n",
       "    <tr>\n",
       "      <th>2</th>\n",
       "      <td>Добавить блоки рекомендаций товаров на сайт интернет магазина, чтобы повысить конверсию и средний чек заказа</td>\n",
       "      <td>8</td>\n",
       "      <td>3</td>\n",
       "      <td>7</td>\n",
       "      <td>3</td>\n",
       "    </tr>\n",
       "    <tr>\n",
       "      <th>3</th>\n",
       "      <td>Изменить структура категорий, что увеличит конверсию, т.к. пользователи быстрее найдут нужный товар</td>\n",
       "      <td>8</td>\n",
       "      <td>3</td>\n",
       "      <td>3</td>\n",
       "      <td>8</td>\n",
       "    </tr>\n",
       "    <tr>\n",
       "      <th>4</th>\n",
       "      <td>Изменить цвет фона главной страницы, чтобы увеличить вовлеченность пользователей</td>\n",
       "      <td>3</td>\n",
       "      <td>1</td>\n",
       "      <td>1</td>\n",
       "      <td>1</td>\n",
       "    </tr>\n",
       "    <tr>\n",
       "      <th>5</th>\n",
       "      <td>Добавить страницу отзывов клиентов о магазине, что позволит увеличить количество заказов</td>\n",
       "      <td>3</td>\n",
       "      <td>2</td>\n",
       "      <td>2</td>\n",
       "      <td>3</td>\n",
       "    </tr>\n",
       "    <tr>\n",
       "      <th>6</th>\n",
       "      <td>Показать на главной странице баннеры с актуальными акциями и распродажами, чтобы увеличить конверсию</td>\n",
       "      <td>5</td>\n",
       "      <td>3</td>\n",
       "      <td>8</td>\n",
       "      <td>3</td>\n",
       "    </tr>\n",
       "    <tr>\n",
       "      <th>7</th>\n",
       "      <td>Добавить форму подписки на все основные страницы, чтобы собрать базу клиентов для email-рассылок</td>\n",
       "      <td>10</td>\n",
       "      <td>7</td>\n",
       "      <td>8</td>\n",
       "      <td>5</td>\n",
       "    </tr>\n",
       "    <tr>\n",
       "      <th>8</th>\n",
       "      <td>Запустить акцию, дающую скидку на товар в день рождения</td>\n",
       "      <td>1</td>\n",
       "      <td>9</td>\n",
       "      <td>9</td>\n",
       "      <td>5</td>\n",
       "    </tr>\n",
       "  </tbody>\n",
       "</table>\n",
       "</div>"
      ],
      "text/plain": [
       "                                                                                                     hypothesis  \\\n",
       "0            Добавить два новых канала привлечения трафика, что позволит привлекать на 30% больше пользователей   \n",
       "1                                     Запустить собственную службу доставки, что сократит срок доставки заказов   \n",
       "2  Добавить блоки рекомендаций товаров на сайт интернет магазина, чтобы повысить конверсию и средний чек заказа   \n",
       "3           Изменить структура категорий, что увеличит конверсию, т.к. пользователи быстрее найдут нужный товар   \n",
       "4                              Изменить цвет фона главной страницы, чтобы увеличить вовлеченность пользователей   \n",
       "5                      Добавить страницу отзывов клиентов о магазине, что позволит увеличить количество заказов   \n",
       "6          Показать на главной странице баннеры с актуальными акциями и распродажами, чтобы увеличить конверсию   \n",
       "7              Добавить форму подписки на все основные страницы, чтобы собрать базу клиентов для email-рассылок   \n",
       "8                                                       Запустить акцию, дающую скидку на товар в день рождения   \n",
       "\n",
       "   reach  impact  confidence  efforts  \n",
       "0      3      10           8        6  \n",
       "1      2       5           4       10  \n",
       "2      8       3           7        3  \n",
       "3      8       3           3        8  \n",
       "4      3       1           1        1  \n",
       "5      3       2           2        3  \n",
       "6      5       3           8        3  \n",
       "7     10       7           8        5  \n",
       "8      1       9           9        5  "
      ]
     },
     "metadata": {},
     "output_type": "display_data"
    }
   ],
   "source": [
    "# увеличим максимальную ширину столбца при выводе\n",
    "pd.set_option('display.max_colwidth', 120)\n",
    "\n",
    "display(hypothesis)\n",
    "\n",
    "# вернем максимальную ширину столбца к дефолтной\n",
    "pd.reset_option('display.max_colwidth')"
   ]
  },
  {
   "cell_type": "markdown",
   "id": "f49b053c",
   "metadata": {},
   "source": [
    "Применим фреймворк ICE для приоритизации гипотез. Отсортируем их по убыванию приоритета."
   ]
  },
  {
   "cell_type": "code",
   "execution_count": 8,
   "id": "998c538f",
   "metadata": {},
   "outputs": [
    {
     "data": {
      "text/html": [
       "<div>\n",
       "<style scoped>\n",
       "    .dataframe tbody tr th:only-of-type {\n",
       "        vertical-align: middle;\n",
       "    }\n",
       "\n",
       "    .dataframe tbody tr th {\n",
       "        vertical-align: top;\n",
       "    }\n",
       "\n",
       "    .dataframe thead th {\n",
       "        text-align: right;\n",
       "    }\n",
       "</style>\n",
       "<table border=\"1\" class=\"dataframe\">\n",
       "  <thead>\n",
       "    <tr style=\"text-align: right;\">\n",
       "      <th></th>\n",
       "      <th>hypothesis</th>\n",
       "      <th>ICE</th>\n",
       "    </tr>\n",
       "  </thead>\n",
       "  <tbody>\n",
       "    <tr>\n",
       "      <th>8</th>\n",
       "      <td>Запустить акцию, дающую скидку на товар в день рождения</td>\n",
       "      <td>16.20</td>\n",
       "    </tr>\n",
       "    <tr>\n",
       "      <th>0</th>\n",
       "      <td>Добавить два новых канала привлечения трафика, что позволит привлекать на 30% больше пользователей</td>\n",
       "      <td>13.33</td>\n",
       "    </tr>\n",
       "    <tr>\n",
       "      <th>7</th>\n",
       "      <td>Добавить форму подписки на все основные страницы, чтобы собрать базу клиентов для email-рассылок</td>\n",
       "      <td>11.20</td>\n",
       "    </tr>\n",
       "    <tr>\n",
       "      <th>6</th>\n",
       "      <td>Показать на главной странице баннеры с актуальными акциями и распродажами, чтобы увеличить конверсию</td>\n",
       "      <td>8.00</td>\n",
       "    </tr>\n",
       "    <tr>\n",
       "      <th>2</th>\n",
       "      <td>Добавить блоки рекомендаций товаров на сайт интернет магазина, чтобы повысить конверсию и средний чек заказа</td>\n",
       "      <td>7.00</td>\n",
       "    </tr>\n",
       "    <tr>\n",
       "      <th>1</th>\n",
       "      <td>Запустить собственную службу доставки, что сократит срок доставки заказов</td>\n",
       "      <td>2.00</td>\n",
       "    </tr>\n",
       "    <tr>\n",
       "      <th>5</th>\n",
       "      <td>Добавить страницу отзывов клиентов о магазине, что позволит увеличить количество заказов</td>\n",
       "      <td>1.33</td>\n",
       "    </tr>\n",
       "    <tr>\n",
       "      <th>3</th>\n",
       "      <td>Изменить структура категорий, что увеличит конверсию, т.к. пользователи быстрее найдут нужный товар</td>\n",
       "      <td>1.12</td>\n",
       "    </tr>\n",
       "    <tr>\n",
       "      <th>4</th>\n",
       "      <td>Изменить цвет фона главной страницы, чтобы увеличить вовлеченность пользователей</td>\n",
       "      <td>1.00</td>\n",
       "    </tr>\n",
       "  </tbody>\n",
       "</table>\n",
       "</div>"
      ],
      "text/plain": [
       "                                                                                                     hypothesis  \\\n",
       "8                                                       Запустить акцию, дающую скидку на товар в день рождения   \n",
       "0            Добавить два новых канала привлечения трафика, что позволит привлекать на 30% больше пользователей   \n",
       "7              Добавить форму подписки на все основные страницы, чтобы собрать базу клиентов для email-рассылок   \n",
       "6          Показать на главной странице баннеры с актуальными акциями и распродажами, чтобы увеличить конверсию   \n",
       "2  Добавить блоки рекомендаций товаров на сайт интернет магазина, чтобы повысить конверсию и средний чек заказа   \n",
       "1                                     Запустить собственную службу доставки, что сократит срок доставки заказов   \n",
       "5                      Добавить страницу отзывов клиентов о магазине, что позволит увеличить количество заказов   \n",
       "3           Изменить структура категорий, что увеличит конверсию, т.к. пользователи быстрее найдут нужный товар   \n",
       "4                              Изменить цвет фона главной страницы, чтобы увеличить вовлеченность пользователей   \n",
       "\n",
       "     ICE  \n",
       "8  16.20  \n",
       "0  13.33  \n",
       "7  11.20  \n",
       "6   8.00  \n",
       "2   7.00  \n",
       "1   2.00  \n",
       "5   1.33  \n",
       "3   1.12  \n",
       "4   1.00  "
      ]
     },
     "metadata": {},
     "output_type": "display_data"
    },
    {
     "data": {
      "image/png": "[encoded data removed]",
      "text/plain": [
       "<Figure size 640x480 with 1 Axes>"
      ]
     },
     "metadata": {},
     "output_type": "display_data"
    }
   ],
   "source": [
    "# увеличим максимальную ширину столбца при выводе\n",
    "pd.set_option('display.max_colwidth', 120)\n",
    "\n",
    "# считаем целевой параметр ICE\n",
    "hypothesis['ICE'] = round(hypothesis['impact'] * hypothesis['confidence'] / hypothesis['efforts'],2)\n",
    "display(hypothesis[['hypothesis','ICE']].sort_values(by='ICE',ascending=False))\n",
    "\n",
    "# строим столбчатую диаграмму приоритетов\n",
    "hypothesis[['hypothesis','ICE']].sort_values(by='ICE',ascending=False).plot(kind='bar')\n",
    "plt.title('ICE гипотез')\n",
    "plt.xlabel('Номер гипотезы')\n",
    "plt.ylabel('ICE')\n",
    "plt.show()\n",
    "\n",
    "# вернем максимальную ширину столбца к дефолтной\n",
    "pd.reset_option('display.max_colwidth')"
   ]
  },
  {
   "cell_type": "markdown",
   "id": "fa6fd2d3",
   "metadata": {},
   "source": [
    "Применим фреймворк RICE для приоритизации гипотез. Отсортируем их по убыванию приоритета."
   ]
  },
  {
   "cell_type": "code",
   "execution_count": 9,
   "id": "fd6b97c7",
   "metadata": {
    "scrolled": false
   },
   "outputs": [
    {
     "data": {
      "text/html": [
       "<div>\n",
       "<style scoped>\n",
       "    .dataframe tbody tr th:only-of-type {\n",
       "        vertical-align: middle;\n",
       "    }\n",
       "\n",
       "    .dataframe tbody tr th {\n",
       "        vertical-align: top;\n",
       "    }\n",
       "\n",
       "    .dataframe thead th {\n",
       "        text-align: right;\n",
       "    }\n",
       "</style>\n",
       "<table border=\"1\" class=\"dataframe\">\n",
       "  <thead>\n",
       "    <tr style=\"text-align: right;\">\n",
       "      <th></th>\n",
       "      <th>hypothesis</th>\n",
       "      <th>RICE</th>\n",
       "    </tr>\n",
       "  </thead>\n",
       "  <tbody>\n",
       "    <tr>\n",
       "      <th>7</th>\n",
       "      <td>Добавить форму подписки на все основные страницы, чтобы собрать базу клиентов для email-рассылок</td>\n",
       "      <td>112.0</td>\n",
       "    </tr>\n",
       "    <tr>\n",
       "      <th>2</th>\n",
       "      <td>Добавить блоки рекомендаций товаров на сайт интернет магазина, чтобы повысить конверсию и средний чек заказа</td>\n",
       "      <td>56.0</td>\n",
       "    </tr>\n",
       "    <tr>\n",
       "      <th>0</th>\n",
       "      <td>Добавить два новых канала привлечения трафика, что позволит привлекать на 30% больше пользователей</td>\n",
       "      <td>40.0</td>\n",
       "    </tr>\n",
       "    <tr>\n",
       "      <th>6</th>\n",
       "      <td>Показать на главной странице баннеры с актуальными акциями и распродажами, чтобы увеличить конверсию</td>\n",
       "      <td>40.0</td>\n",
       "    </tr>\n",
       "    <tr>\n",
       "      <th>8</th>\n",
       "      <td>Запустить акцию, дающую скидку на товар в день рождения</td>\n",
       "      <td>16.2</td>\n",
       "    </tr>\n",
       "    <tr>\n",
       "      <th>3</th>\n",
       "      <td>Изменить структура категорий, что увеличит конверсию, т.к. пользователи быстрее найдут нужный товар</td>\n",
       "      <td>9.0</td>\n",
       "    </tr>\n",
       "    <tr>\n",
       "      <th>1</th>\n",
       "      <td>Запустить собственную службу доставки, что сократит срок доставки заказов</td>\n",
       "      <td>4.0</td>\n",
       "    </tr>\n",
       "    <tr>\n",
       "      <th>5</th>\n",
       "      <td>Добавить страницу отзывов клиентов о магазине, что позволит увеличить количество заказов</td>\n",
       "      <td>4.0</td>\n",
       "    </tr>\n",
       "    <tr>\n",
       "      <th>4</th>\n",
       "      <td>Изменить цвет фона главной страницы, чтобы увеличить вовлеченность пользователей</td>\n",
       "      <td>3.0</td>\n",
       "    </tr>\n",
       "  </tbody>\n",
       "</table>\n",
       "</div>"
      ],
      "text/plain": [
       "                                                                                                     hypothesis  \\\n",
       "7              Добавить форму подписки на все основные страницы, чтобы собрать базу клиентов для email-рассылок   \n",
       "2  Добавить блоки рекомендаций товаров на сайт интернет магазина, чтобы повысить конверсию и средний чек заказа   \n",
       "0            Добавить два новых канала привлечения трафика, что позволит привлекать на 30% больше пользователей   \n",
       "6          Показать на главной странице баннеры с актуальными акциями и распродажами, чтобы увеличить конверсию   \n",
       "8                                                       Запустить акцию, дающую скидку на товар в день рождения   \n",
       "3           Изменить структура категорий, что увеличит конверсию, т.к. пользователи быстрее найдут нужный товар   \n",
       "1                                     Запустить собственную службу доставки, что сократит срок доставки заказов   \n",
       "5                      Добавить страницу отзывов клиентов о магазине, что позволит увеличить количество заказов   \n",
       "4                              Изменить цвет фона главной страницы, чтобы увеличить вовлеченность пользователей   \n",
       "\n",
       "    RICE  \n",
       "7  112.0  \n",
       "2   56.0  \n",
       "0   40.0  \n",
       "6   40.0  \n",
       "8   16.2  \n",
       "3    9.0  \n",
       "1    4.0  \n",
       "5    4.0  \n",
       "4    3.0  "
      ]
     },
     "metadata": {},
     "output_type": "display_data"
    },
    {
     "data": {
      "image/png": "[encoded data removed]",
      "text/plain": [
       "<Figure size 640x480 with 1 Axes>"
      ]
     },
     "metadata": {},
     "output_type": "display_data"
    }
   ],
   "source": [
    "# увеличим максимальную ширину столбца при выводе\n",
    "pd.set_option('display.max_colwidth', 120)\n",
    "\n",
    "# считаем целевой параметр ICE\n",
    "hypothesis['RICE'] = round(hypothesis['impact'] * hypothesis['confidence'] * hypothesis['reach'] / hypothesis['efforts'],2)\n",
    "display(hypothesis[['hypothesis','RICE']].sort_values(by='RICE',ascending=False))\n",
    "\n",
    "# строим столбчатую диаграмму приоритетов\n",
    "hypothesis[['hypothesis','RICE']].sort_values(by='RICE',ascending=False).plot(kind='bar')\n",
    "# добавим заголовок, подпишем оси и добавим легенду\n",
    "plt.title('RICE гипотез')\n",
    "plt.xlabel('Номер гипотезы')\n",
    "plt.ylabel('RICE')\n",
    "plt.show()\n",
    "\n",
    "# вернем максимальную ширину столбца к дефолтной\n",
    "pd.reset_option('display.max_colwidth')"
   ]
  },
  {
   "cell_type": "markdown",
   "id": "7592ff80",
   "metadata": {},
   "source": [
    "**Выводы:**\n",
    "- Уровень приоритезации для одних и тех же гипотез во фреймворках ICE и RICE различен. На изменение приоритезации повлиял параметр reach - охват пользователей. Во фреймворке RICE явный лидер - 7 гипотеза \"Добавить форму подписки на все основные страницы, чтобы собрать базу клиентов для email-рассылок\", хотя во фреймворке ICE у нее 3 уровень приоритета. Видимо, 7 гипотеза затронет большое количество пользователей, так как форма подписки будет добавлена на все основные страницы сайта. А вот 8 гипотеза \"Запустить акцию, дающую скидку на товар в день рождения\" хотя имеет первый уровень приоритета во фреймворке ICE, в RICE она всего лишь на 5 месте, так как затронет очень небольшое количество пользователей, у которых день рождения выпало на дни проведения скидочной акции. **В первую очередь рекомендуется проверить 7 гипотезу.**"
   ]
  },
  {
   "cell_type": "markdown",
   "id": "79a72f1d",
   "metadata": {},
   "source": [
    "## Анализ A/B-теста"
   ]
  },
  {
   "cell_type": "markdown",
   "id": "631f6102",
   "metadata": {},
   "source": [
    "### Параметры A/B-теста"
   ]
  },
  {
   "cell_type": "markdown",
   "id": "753010e6",
   "metadata": {},
   "source": [
    "Наш A/B-тест является парным, в нем сраниваются две группы A и B."
   ]
  },
  {
   "cell_type": "code",
   "execution_count": 10,
   "id": "253c9a8f",
   "metadata": {},
   "outputs": [
    {
     "name": "stdout",
     "output_type": "stream",
     "text": [
      "2019-08-01\n",
      "2019-08-31\n",
      "30\n"
     ]
    }
   ],
   "source": [
    "print(min(visitors['date']).date())\n",
    "print(max(visitors['date']).date())\n",
    "print((max(visitors['date'])-min(visitors['date'])).days)"
   ]
  },
  {
   "cell_type": "markdown",
   "id": "97c854ee",
   "metadata": {},
   "source": [
    "Наш A/B-тест проводился с 1 августа по 31 августа 2019 года. Длительность теста составила 30 дней."
   ]
  },
  {
   "cell_type": "markdown",
   "id": "81d9231a",
   "metadata": {},
   "source": [
    "### Предварительная проверка выборок"
   ]
  },
  {
   "cell_type": "markdown",
   "id": "a0b871ee",
   "metadata": {},
   "source": [
    "Проверим, нет ли в данных пользователей, участвовавших в нескольких группах теста одновременно. Из-за недостатка данных, мы можем сделать это только для платящих пользователей. Проверим хотя бы их."
   ]
  },
  {
   "cell_type": "code",
   "execution_count": 11,
   "id": "5c8c0a4f",
   "metadata": {},
   "outputs": [
    {
     "name": "stdout",
     "output_type": "stream",
     "text": [
      "Всего платящих пользователей в группе A: 503\n",
      "Всего платящих пользователей в группе B: 586\n",
      "Платящие пользователи, попавшие в обе группы: 58\n",
      "Процент таких пользователей в группе A: 11.5%\n",
      "Процент таких пользователей в группе B: 9.9%\n"
     ]
    }
   ],
   "source": [
    "ordersA = pd.Series(orders[orders['group'] == 'A']['visitorId'].unique())\n",
    "ordersB = pd.Series(orders[orders['group'] == 'B']['visitorId'].unique())\n",
    "\n",
    "print('Всего платящих пользователей в группе A:',ordersA.count())\n",
    "print('Всего платящих пользователей в группе B:',ordersB.count())\n",
    "print('Платящие пользователи, попавшие в обе группы:',ordersA[ordersA.isin(ordersB)].count())\n",
    "print('Процент таких пользователей в группе A: {0:.1%}'.format(ordersA[ordersA.isin(ordersB)].count()/ordersA.count()))\n",
    "print('Процент таких пользователей в группе B: {0:.1%}'.format(ordersA[ordersA.isin(ordersB)].count()/ordersB.count()))"
   ]
  },
  {
   "cell_type": "markdown",
   "id": "457af121",
   "metadata": {},
   "source": [
    "Да, действительно есть 58 пользователей, попавших в обе группы. Однако мы не можем их исключить из дальнейших расчетов, т.к. у нас нет данных, какие из этих пользователей были посетителями. Также из-за недостатка данных мы не можем уточнить, какие из неплатящих пользователей попали в обе группы A/B-теста. Еще полезно было бы сравнить размеры выборок двух групп A/B-теста, но и этого мы сделать не можем из-за того же недостатка данных. В связи с этим оставим данные как есть."
   ]
  },
  {
   "cell_type": "markdown",
   "id": "de5f0aab",
   "metadata": {},
   "source": [
    "### Анализ кумулятивных значений"
   ]
  },
  {
   "cell_type": "markdown",
   "id": "2a13fd64",
   "metadata": {},
   "source": [
    "Подготовим данные для расчетов"
   ]
  },
  {
   "cell_type": "code",
   "execution_count": 12,
   "id": "92d0da3a",
   "metadata": {},
   "outputs": [
    {
     "data": {
      "text/html": [
       "<div>\n",
       "<style scoped>\n",
       "    .dataframe tbody tr th:only-of-type {\n",
       "        vertical-align: middle;\n",
       "    }\n",
       "\n",
       "    .dataframe tbody tr th {\n",
       "        vertical-align: top;\n",
       "    }\n",
       "\n",
       "    .dataframe thead th {\n",
       "        text-align: right;\n",
       "    }\n",
       "</style>\n",
       "<table border=\"1\" class=\"dataframe\">\n",
       "  <thead>\n",
       "    <tr style=\"text-align: right;\">\n",
       "      <th></th>\n",
       "      <th>date</th>\n",
       "      <th>ordersPerDateA</th>\n",
       "      <th>revenuePerDateA</th>\n",
       "      <th>ordersPerDateB</th>\n",
       "      <th>revenuePerDateB</th>\n",
       "      <th>ordersCummulativeA</th>\n",
       "      <th>revenueCummulativeA</th>\n",
       "      <th>ordersCummulativeB</th>\n",
       "      <th>revenueCummulativeB</th>\n",
       "      <th>visitorsPerDateA</th>\n",
       "      <th>visitorsPerDateB</th>\n",
       "      <th>visitorsCummulativeA</th>\n",
       "      <th>visitorsCummulativeB</th>\n",
       "    </tr>\n",
       "  </thead>\n",
       "  <tbody>\n",
       "    <tr>\n",
       "      <th>0</th>\n",
       "      <td>2019-08-01</td>\n",
       "      <td>24</td>\n",
       "      <td>148579</td>\n",
       "      <td>21</td>\n",
       "      <td>101217</td>\n",
       "      <td>24</td>\n",
       "      <td>148579</td>\n",
       "      <td>21</td>\n",
       "      <td>101217</td>\n",
       "      <td>719</td>\n",
       "      <td>713</td>\n",
       "      <td>719</td>\n",
       "      <td>713</td>\n",
       "    </tr>\n",
       "    <tr>\n",
       "      <th>1</th>\n",
       "      <td>2019-08-02</td>\n",
       "      <td>20</td>\n",
       "      <td>93822</td>\n",
       "      <td>24</td>\n",
       "      <td>165531</td>\n",
       "      <td>44</td>\n",
       "      <td>242401</td>\n",
       "      <td>45</td>\n",
       "      <td>266748</td>\n",
       "      <td>619</td>\n",
       "      <td>581</td>\n",
       "      <td>1338</td>\n",
       "      <td>1294</td>\n",
       "    </tr>\n",
       "    <tr>\n",
       "      <th>2</th>\n",
       "      <td>2019-08-03</td>\n",
       "      <td>24</td>\n",
       "      <td>112473</td>\n",
       "      <td>16</td>\n",
       "      <td>114248</td>\n",
       "      <td>68</td>\n",
       "      <td>354874</td>\n",
       "      <td>61</td>\n",
       "      <td>380996</td>\n",
       "      <td>507</td>\n",
       "      <td>509</td>\n",
       "      <td>1845</td>\n",
       "      <td>1803</td>\n",
       "    </tr>\n",
       "    <tr>\n",
       "      <th>3</th>\n",
       "      <td>2019-08-04</td>\n",
       "      <td>16</td>\n",
       "      <td>70825</td>\n",
       "      <td>17</td>\n",
       "      <td>108571</td>\n",
       "      <td>84</td>\n",
       "      <td>425699</td>\n",
       "      <td>78</td>\n",
       "      <td>489567</td>\n",
       "      <td>717</td>\n",
       "      <td>770</td>\n",
       "      <td>2562</td>\n",
       "      <td>2573</td>\n",
       "    </tr>\n",
       "    <tr>\n",
       "      <th>4</th>\n",
       "      <td>2019-08-05</td>\n",
       "      <td>25</td>\n",
       "      <td>124218</td>\n",
       "      <td>23</td>\n",
       "      <td>92428</td>\n",
       "      <td>109</td>\n",
       "      <td>549917</td>\n",
       "      <td>101</td>\n",
       "      <td>581995</td>\n",
       "      <td>756</td>\n",
       "      <td>707</td>\n",
       "      <td>3318</td>\n",
       "      <td>3280</td>\n",
       "    </tr>\n",
       "  </tbody>\n",
       "</table>\n",
       "</div>"
      ],
      "text/plain": [
       "        date  ordersPerDateA  revenuePerDateA  ordersPerDateB  \\\n",
       "0 2019-08-01              24           148579              21   \n",
       "1 2019-08-02              20            93822              24   \n",
       "2 2019-08-03              24           112473              16   \n",
       "3 2019-08-04              16            70825              17   \n",
       "4 2019-08-05              25           124218              23   \n",
       "\n",
       "   revenuePerDateB  ordersCummulativeA  revenueCummulativeA  \\\n",
       "0           101217                  24               148579   \n",
       "1           165531                  44               242401   \n",
       "2           114248                  68               354874   \n",
       "3           108571                  84               425699   \n",
       "4            92428                 109               549917   \n",
       "\n",
       "   ordersCummulativeB  revenueCummulativeB  visitorsPerDateA  \\\n",
       "0                  21               101217               719   \n",
       "1                  45               266748               619   \n",
       "2                  61               380996               507   \n",
       "3                  78               489567               717   \n",
       "4                 101               581995               756   \n",
       "\n",
       "   visitorsPerDateB  visitorsCummulativeA  visitorsCummulativeB  \n",
       "0               713                   719                   713  \n",
       "1               581                  1338                  1294  \n",
       "2               509                  1845                  1803  \n",
       "3               770                  2562                  2573  \n",
       "4               707                  3318                  3280  "
      ]
     },
     "metadata": {},
     "output_type": "display_data"
    }
   ],
   "source": [
    "# количество посетителей группы A в день\n",
    "visitorsADaily = visitors[visitors['group'] == 'A'][['date', 'visitors']]\n",
    "visitorsADaily.columns = ['date', 'visitorsPerDateA']\n",
    "\n",
    "# количество посетителей группы A с накоплением \n",
    "visitorsACummulative = visitorsADaily.apply(\n",
    "    lambda x: visitorsADaily[visitorsADaily['date'] <= x['date']].agg(\n",
    "        {'date': 'max', 'visitorsPerDateA': 'sum'}),\n",
    "    axis=1,)\n",
    "visitorsACummulative.columns = ['date', 'visitorsCummulativeA']\n",
    "\n",
    "# количество посетителей группы B в день \n",
    "visitorsBDaily = visitors[visitors['group'] == 'B'][['date', 'visitors']]\n",
    "visitorsBDaily.columns = ['date', 'visitorsPerDateB']\n",
    "\n",
    "# количество посетителей группы B с накоплением\n",
    "visitorsBCummulative = visitorsBDaily.apply(\n",
    "    lambda x: visitorsBDaily[visitorsBDaily['date'] <= x['date']].agg(\n",
    "        {'date': 'max', 'visitorsPerDateB': 'sum'}),\n",
    "    axis=1,)\n",
    "visitorsBCummulative.columns = ['date', 'visitorsCummulativeB']\n",
    "\n",
    "# количество заказов и выручка группы A в день\n",
    "ordersADaily = (\n",
    "    orders[orders['group'] == 'A'][['date', 'transactionId', 'visitorId', 'revenue']]\n",
    "    .groupby('date', as_index=False)\n",
    "    .agg({'transactionId': pd.Series.nunique, 'revenue': 'sum'}))\n",
    "ordersADaily.columns = ['date', 'ordersPerDateA', 'revenuePerDateA']\n",
    "\n",
    "# количество заказов и выручка группы A с накоплением\n",
    "ordersACummulative = ordersADaily.apply(\n",
    "    lambda x: ordersADaily[ordersADaily['date'] <= x['date']].agg(\n",
    "        {'date': 'max', 'ordersPerDateA': 'sum', 'revenuePerDateA': 'sum'}),\n",
    "    axis=1,\n",
    ").sort_values(by=['date'])\n",
    "ordersACummulative.columns = ['date','ordersCummulativeA','revenueCummulativeA',]\n",
    "\n",
    "# количество заказов и выручка группы B в день\n",
    "ordersBDaily = (\n",
    "    orders[orders['group'] == 'B'][['date', 'transactionId', 'visitorId', 'revenue']]\n",
    "    .groupby('date', as_index=False)\n",
    "    .agg({'transactionId': pd.Series.nunique, 'revenue': 'sum'}))\n",
    "ordersBDaily.columns = ['date', 'ordersPerDateB', 'revenuePerDateB']\n",
    "\n",
    "# количество заказов и выручка группы B с накоплением\n",
    "ordersBCummulative = ordersBDaily.apply(\n",
    "    lambda x: ordersBDaily[ordersBDaily['date'] <= x['date']].agg(\n",
    "        {'date': 'max', 'ordersPerDateB': 'sum', 'revenuePerDateB': 'sum'}),\n",
    "    axis=1,\n",
    ").sort_values(by=['date'])\n",
    "ordersBCummulative.columns = ['date','ordersCummulativeB','revenueCummulativeB',]\n",
    "\n",
    "# объединяем все данные\n",
    "data = (\n",
    "    ordersADaily.merge(\n",
    "        ordersBDaily, left_on='date', right_on='date', how='left')\n",
    "    .merge(ordersACummulative, left_on='date', right_on='date', how='left')\n",
    "    .merge(ordersBCummulative, left_on='date', right_on='date', how='left')\n",
    "    .merge(visitorsADaily, left_on='date', right_on='date', how='left')\n",
    "    .merge(visitorsBDaily, left_on='date', right_on='date', how='left')\n",
    "    .merge(visitorsACummulative, left_on='date', right_on='date', how='left')\n",
    "    .merge(visitorsBCummulative, left_on='date', right_on='date', how='left'))\n",
    "\n",
    "display(data.head(5))"
   ]
  },
  {
   "cell_type": "markdown",
   "id": "b0735a7b",
   "metadata": {},
   "source": [
    "Пояснения к столбцам в подготовленном для анализа датафрейме `data`:\n",
    "\n",
    "- `date` — дата;\n",
    "- `ordersPerDateA` — количество заказов в выбранную дату в группе A;\n",
    "- `revenuePerDateA` — суммарная выручка в выбранную дату в группе A;\n",
    "- `ordersPerDateB` — количество заказов в выбранную дату в группе B;\n",
    "- `revenuePerDateB` — суммарная выручка в выбранную дату в группе B;\n",
    "- `ordersCummulativeA` — суммарное число заказов до выбранной даты включительно в группе A;\n",
    "- `revenueCummulativeA` — суммарная выручка до выбранной даты включительно в группе A;\n",
    "- `ordersCummulativeB` — суммарное количество заказов до выбранной даты включительно в группе B;\n",
    "- `revenueCummulativeB` — суммарная выручка до выбранной даты включительно в группе B;\n",
    "- `visitorsPerDateA` — количество пользователей в выбранную дату в группе A;\n",
    "- `visitorsPerDateB` — количество пользователей в выбранную дату в группе B;\n",
    "- `visitorsCummulativeA` — количество пользователей до выбранной даты включительно в группе A;\n",
    "- `visitorsCummulativeB` — количество пользователей до выбранной даты включительно в группе B."
   ]
  },
  {
   "cell_type": "markdown",
   "id": "635f1714",
   "metadata": {},
   "source": [
    "Построим график кумулятивной выручки по группам."
   ]
  },
  {
   "cell_type": "code",
   "execution_count": 13,
   "id": "a74117d0",
   "metadata": {},
   "outputs": [],
   "source": [
    "# найдем максимальную и минимальную даты\n",
    "# они будут нужны для улучшения отображения оси абсцисс\n",
    "\n",
    "min_date = min(data['date'])\n",
    "max_date = max(data['date'])"
   ]
  },
  {
   "cell_type": "code",
   "execution_count": 14,
   "id": "5577bae2",
   "metadata": {
    "scrolled": false
   },
   "outputs": [
    {
     "data": {
      "image/png": "[encoded data removed]",
      "text/plain": [
       "<Figure size 640x480 with 1 Axes>"
      ]
     },
     "metadata": {},
     "output_type": "display_data"
    }
   ],
   "source": [
    "# cтроим график выручки группы А\n",
    "plt.plot(data['date'], data['revenueCummulativeA'], label='A')\n",
    "\n",
    "# cтроим график выручки группы B\n",
    "plt.plot(data['date'], data['revenueCummulativeB'], label='B')\n",
    "\n",
    "# улучшаем отображение значений на горизонтальной оси\n",
    "plt.xticks(pd.date_range(min_date, max_date, 5))\n",
    "\n",
    "# добавим заголовок, подпишем оси и добавим легенду\n",
    "plt.title('Кумулятивная выручка по группам')\n",
    "plt.xlabel('Дата')\n",
    "plt.ylabel('Выручка')\n",
    "plt.legend()\n",
    "\n",
    "plt.show()"
   ]
  },
  {
   "cell_type": "markdown",
   "id": "92cf3b49",
   "metadata": {},
   "source": [
    "**Выводы:**\n",
    "- Выручка увеличивается в течение всего теста. График выручки группы A - равномерно. График выручки группы B неравномерно - в одном промежутке фиксируется резкий рост. Это может говорить о всплесках числа заказов и/или о появлении очень дорогих заказов в выборке группы B."
   ]
  },
  {
   "cell_type": "markdown",
   "id": "5496a6f5",
   "metadata": {},
   "source": [
    "Построим график кумулятивного среднего чека по группам."
   ]
  },
  {
   "cell_type": "code",
   "execution_count": 15,
   "id": "24c0325a",
   "metadata": {
    "scrolled": false
   },
   "outputs": [
    {
     "data": {
      "image/png": "[encoded data removed]",
      "text/plain": [
       "<Figure size 640x480 with 1 Axes>"
      ]
     },
     "metadata": {},
     "output_type": "display_data"
    }
   ],
   "source": [
    "# строим график кумулятивного среднего чека группы А\n",
    "plt.plot(data['date'], data['revenueCummulativeA']/data['ordersCummulativeA'], label='A')\n",
    "\n",
    "# строим график кумулятивного среднего чека группы B\n",
    "plt.plot(data['date'], data['revenueCummulativeB']/data['ordersCummulativeB'], label='B')\n",
    "\n",
    "# улучшаем отображение значений на горизонтальной оси\n",
    "plt.xticks(pd.date_range(min_date, max_date, 5))\n",
    "\n",
    "# добавим заголовок, подпишем оси и добавим легенду\n",
    "plt.title('Кумулятивный средний чек по группам')\n",
    "plt.xlabel('Дата')\n",
    "plt.ylabel('Средний чек')\n",
    "plt.legend()\n",
    "\n",
    "plt.show()"
   ]
  },
  {
   "cell_type": "markdown",
   "id": "78e158ef",
   "metadata": {},
   "source": [
    "**Выводы:**\n",
    "- Средний чек группы B показывает резкий рост примерно за те же даты, что и выручка. Скорее всего произошел резкий всплеск аномально дорогих заказов в это время."
   ]
  },
  {
   "cell_type": "markdown",
   "id": "5be9769b",
   "metadata": {},
   "source": [
    "Построим график относительного изменения кумулятивного среднего чека группы B к группе A."
   ]
  },
  {
   "cell_type": "code",
   "execution_count": 16,
   "id": "03aaf664",
   "metadata": {},
   "outputs": [
    {
     "data": {
      "image/png": "[encoded data removed]",
      "text/plain": [
       "<Figure size 640x480 with 1 Axes>"
      ]
     },
     "metadata": {},
     "output_type": "display_data"
    }
   ],
   "source": [
    "# cтроим отношение средних чеков\n",
    "plt.plot(data['date'], (data['revenueCummulativeB']/data['ordersCummulativeB'])/(data['revenueCummulativeA']/data['ordersCummulativeA'])-1)\n",
    "\n",
    "# добавляем горизонтальную линию\n",
    "plt.axhline(y=0, color='black', linestyle='--')\n",
    "\n",
    "# улучшаем отображение значений на горизонтальной оси\n",
    "plt.xticks(pd.date_range(min_date, max_date, 5))\n",
    "\n",
    "# добавим заголовок, подпишем оси\n",
    "plt.title('Отношение кум. ср. чека группы B к группе A')\n",
    "plt.xlabel('Дата')\n",
    "plt.ylabel('B/A-1')\n",
    "\n",
    "plt.show()"
   ]
  },
  {
   "cell_type": "markdown",
   "id": "cfd18184",
   "metadata": {},
   "source": [
    "**Выводы:**\n",
    "- График резко меняется. Вначале теста выигрывала группа A, потом начала выигрывать группа B, потом снова группа A. К концу теста группа B явно выигрывает по сравнению с группой A. Однако, по данному графику что-то однозначное сказать нельзя: слишком резкие колебания, значения не устоялись. Вероятно, влияют выбросы в данных."
   ]
  },
  {
   "cell_type": "markdown",
   "id": "a0c32579",
   "metadata": {},
   "source": [
    "Построим график кумулятивного среднего количества заказов на посетителя по группам."
   ]
  },
  {
   "cell_type": "code",
   "execution_count": 17,
   "id": "c85dc234",
   "metadata": {},
   "outputs": [
    {
     "data": {
      "image/png": "[encoded data removed]",
      "text/plain": [
       "<Figure size 640x480 with 1 Axes>"
      ]
     },
     "metadata": {},
     "output_type": "display_data"
    }
   ],
   "source": [
    "# строим график кумулятивного среднего количества заказов группы А\n",
    "plt.plot(data['date'], data['ordersCummulativeA']/data['visitorsCummulativeA'], label='A')\n",
    "\n",
    "# строим график кумулятивного среднего количества заказов группы B\n",
    "plt.plot(data['date'], data['ordersCummulativeB']/data['visitorsCummulativeB'], label='B')\n",
    "\n",
    "# улучшаем отображение значений на горизонтальной оси\n",
    "plt.xticks(pd.date_range(min_date, max_date, 5))\n",
    "\n",
    "# добавим заголовок, подпишем оси и добавим легенду\n",
    "plt.title('Кумулятивное ср. кол-во заказов на посетителя по группам')\n",
    "plt.xlabel('Дата')\n",
    "plt.ylabel('Ср. кол-во заказов')\n",
    "plt.legend()\n",
    "\n",
    "plt.show()"
   ]
  },
  {
   "cell_type": "markdown",
   "id": "3f709d60",
   "metadata": {},
   "source": [
    "**Выводы:**\n",
    "- Вначале количество заказов резко меняется и группа B проигрывает, но затем она вырывается вперед и разница постепенно устанавливается. По итогам группа B явно выигрывает."
   ]
  },
  {
   "cell_type": "markdown",
   "id": "b613591a",
   "metadata": {},
   "source": [
    "Построим график относительного изменения кумулятивного среднего количества заказов на посетителя группы B к группе A."
   ]
  },
  {
   "cell_type": "code",
   "execution_count": 18,
   "id": "18cfc8bb",
   "metadata": {},
   "outputs": [
    {
     "data": {
      "image/png": "[encoded data removed]",
      "text/plain": [
       "<Figure size 640x480 with 1 Axes>"
      ]
     },
     "metadata": {},
     "output_type": "display_data"
    }
   ],
   "source": [
    "# cтроим отношение количества заказов на посетителя\n",
    "plt.plot(data['date'], \n",
    "        (data['ordersCummulativeB']/data['visitorsCummulativeB'])/\n",
    "        (data['ordersCummulativeA']/data['visitorsCummulativeA'])-1)\n",
    "\n",
    "# добавляем горизонтальную линию\n",
    "plt.axhline(y=0, color='black', linestyle='--')\n",
    "\n",
    "# улучшаем отображение значений на горизонтальной оси\n",
    "plt.xticks(pd.date_range(min_date, max_date, 5))\n",
    "\n",
    "# добавим заголовок, подпишем оси\n",
    "plt.title('Отношение кум. ср. кол-ва заказов на посетителя по группам')\n",
    "plt.xlabel('Дата')\n",
    "plt.ylabel('B/A-1')\n",
    "\n",
    "plt.show()"
   ]
  },
  {
   "cell_type": "markdown",
   "id": "afdf8399",
   "metadata": {},
   "source": [
    "**Выводы:**\n",
    "- В начале теста группа B значительно проигрывала группе A, но затем вырвалась вперёд и стабильно удерживает лидерство."
   ]
  },
  {
   "cell_type": "markdown",
   "id": "f8fe4d9d",
   "metadata": {},
   "source": [
    "### Анализ выбросов в данных"
   ]
  },
  {
   "cell_type": "markdown",
   "id": "4b2cbf0d",
   "metadata": {},
   "source": [
    "Построим точечный график количества заказов по пользователям."
   ]
  },
  {
   "cell_type": "code",
   "execution_count": 19,
   "id": "8f2708dd",
   "metadata": {},
   "outputs": [
    {
     "data": {
      "image/png": "[encoded data removed]",
      "text/plain": [
       "<Figure size 640x480 with 1 Axes>"
      ]
     },
     "metadata": {},
     "output_type": "display_data"
    }
   ],
   "source": [
    "# считаем количество заказов по пользователям\n",
    "ordersByUsers = (\n",
    "    orders.groupby('visitorId', as_index=False)\n",
    "    .agg({'transactionId': 'nunique'}))\n",
    "ordersByUsers.columns = ['visitorId', 'orders']\n",
    "\n",
    "# задаем значения горизонтальной оси\n",
    "x_values = pd.Series(range(0,len(ordersByUsers)))\n",
    "\n",
    "# строим график\n",
    "plt.scatter(x_values, ordersByUsers['orders'])\n",
    "\n",
    "# добавим заголовок, подпишем оси\n",
    "plt.title('Кол-во заказов по пользователям')\n",
    "plt.xlabel('Порядковый номер пользователя')\n",
    "plt.ylabel('Кол-во заказов')\n",
    "\n",
    "plt.show()"
   ]
  },
  {
   "cell_type": "markdown",
   "id": "2c8035cc",
   "metadata": {},
   "source": [
    "**Выводы:**\n",
    "- В данных определенно есть выбросы. На 1 пользователя в основном приходится 1 заказ. Предварительно \"на глаз\" границу аномальных заказов можно оценить в 2-3 заказа."
   ]
  },
  {
   "cell_type": "markdown",
   "id": "8c7b2ea6",
   "metadata": {},
   "source": [
    "Посчитаем 95-й и 99-й перцентили количества заказов на пользователя."
   ]
  },
  {
   "cell_type": "code",
   "execution_count": 20,
   "id": "7eee05b6",
   "metadata": {},
   "outputs": [
    {
     "name": "stdout",
     "output_type": "stream",
     "text": [
      "[2. 4.]\n"
     ]
    }
   ],
   "source": [
    "print(np.percentile(ordersByUsers['orders'], [95, 99]))"
   ]
  },
  {
   "cell_type": "markdown",
   "id": "ee064e78",
   "metadata": {},
   "source": [
    "**Выводы:**\n",
    "- 2 заказа попадают на 95 перцентиль и  какое-то количество пользователей с 2-мя заказами потенциально может выйти за 5%-ую границу (можно дополнительно проверить, где точно находится эта граница, но это нам сейчас не нужно) и если мы возьмем за границу аномальных значений 2 и больше, то можем отсеить более 5% наблюдений. Поэтому аномалиями лучше с запасом считать значения больше 2 заказов - а именно 3 и больше. Так как на 95 перцентиль приходится 2 заказа, а на 99 перцентиль - 4 заказа, то 3 заказа находятся между 95 и 99 перцентилями, а значит в таком случае будет отсеяно от 1% до 5% наблюдений, что удовлетворяет статистическим правилам."
   ]
  },
  {
   "cell_type": "markdown",
   "id": "52197962",
   "metadata": {},
   "source": [
    "Построим точечный график стоимостей заказов."
   ]
  },
  {
   "cell_type": "code",
   "execution_count": 21,
   "id": "2a6bcf19",
   "metadata": {},
   "outputs": [
    {
     "data": {
      "image/png": "[encoded data removed]",
      "text/plain": [
       "<Figure size 640x480 with 1 Axes>"
      ]
     },
     "metadata": {},
     "output_type": "display_data"
    }
   ],
   "source": [
    "# задаем значения горизонтальной оси\n",
    "x_values = pd.Series(range(0,len(orders['revenue'])))\n",
    "\n",
    "# строим график, задав стомиость в тысячах единиц\n",
    "plt.scatter(x_values, orders['revenue']/1000)\n",
    "\n",
    "# добавим заголовок, подпишем оси\n",
    "plt.title('Стоимость заказов')\n",
    "plt.xlabel('Порядковый номер заказа')\n",
    "plt.ylabel('Стоимость, тыс')\n",
    "\n",
    "plt.show()"
   ]
  },
  {
   "cell_type": "markdown",
   "id": "a30c7dff",
   "metadata": {},
   "source": [
    "**Выводы:**\n",
    "- Аномалий в стоимости заказов не так уж много, но они очень большие. Возможно аномалий горадно больше, просто на графике мы увидели две самые выдающиеся, которые подавили остальные. График в данном случае не показателем, лучше посмотреть на перцентили. Пока \"на глаз\" хочется сказать, что аномалии лежат за границами 100 тыс."
   ]
  },
  {
   "cell_type": "markdown",
   "id": "fc16c84d",
   "metadata": {},
   "source": [
    "Для более точной визуальной оценки аномалий сделаем дополнительный график без двух самых больших выбросов"
   ]
  },
  {
   "cell_type": "code",
   "execution_count": 22,
   "id": "54e1f7a7",
   "metadata": {},
   "outputs": [
    {
     "data": {
      "image/png": "[encoded data removed]",
      "text/plain": [
       "<Figure size 640x480 with 1 Axes>"
      ]
     },
     "metadata": {},
     "output_type": "display_data"
    }
   ],
   "source": [
    "# задаем значения горизонтальной оси\n",
    "x_values = pd.Series(range(0,len(orders['revenue'])))\n",
    "\n",
    "# строим график, задав стомиость в тысячах единиц\n",
    "plt.scatter(x_values, orders['revenue']/1000)\n",
    "\n",
    "# добавим заголовок, подпишем оси\n",
    "plt.title('Стоимость заказов')\n",
    "plt.xlabel('Порядковый номер заказа')\n",
    "plt.ylabel('Стоимость, тыс')\n",
    "\n",
    "plt.axis([0, len(orders['revenue']), 0, 100])\n",
    "\n",
    "plt.show()"
   ]
  },
  {
   "cell_type": "markdown",
   "id": "74f12663",
   "metadata": {},
   "source": [
    "**Выводы:**\n",
    "- Визуально выбросами скорее можно считать значения за пределами примерно 20-40 тыс."
   ]
  },
  {
   "cell_type": "markdown",
   "id": "2d1e0f3c",
   "metadata": {},
   "source": [
    "Посчитаем 95-й и 99-й перцентили стоимости заказов."
   ]
  },
  {
   "cell_type": "code",
   "execution_count": 23,
   "id": "a1cb4340",
   "metadata": {
    "scrolled": true
   },
   "outputs": [
    {
     "name": "stdout",
     "output_type": "stream",
     "text": [
      "[28000.  58233.2]\n"
     ]
    }
   ],
   "source": [
    "print(np.percentile(orders['revenue'], [95, 99]))"
   ]
  },
  {
   "cell_type": "markdown",
   "id": "171b0f7e",
   "metadata": {},
   "source": [
    "**Выводы:**\n",
    "- Границу в стоимости заказов можно принять по 95 перцентилю в 28 тыс, тогда мы отбросим не более 5 % всех значений."
   ]
  },
  {
   "cell_type": "markdown",
   "id": "611b2168",
   "metadata": {},
   "source": [
    "Отберем аномальных пользователей"
   ]
  },
  {
   "cell_type": "code",
   "execution_count": 24,
   "id": "ad219e54",
   "metadata": {},
   "outputs": [],
   "source": [
    "# считаем количество заказов по пользователям группы A\n",
    "\n",
    "ordersByUsersA = (\n",
    "    orders[orders['group'] == 'A']\n",
    "    .groupby('visitorId', as_index=False)\n",
    "    .agg({'transactionId': pd.Series.nunique}))\n",
    "ordersByUsersA.columns = ['visitorId', 'orders']\n",
    "\n",
    "# считаем количество заказов по пользователям группы B\n",
    "\n",
    "ordersByUsersB = (\n",
    "    orders[orders['group'] == 'B']\n",
    "    .groupby('visitorId', as_index=False)\n",
    "    .agg({'transactionId': pd.Series.nunique}))\n",
    "ordersByUsersB.columns = ['visitorId', 'orders']"
   ]
  },
  {
   "cell_type": "code",
   "execution_count": 25,
   "id": "ab72f355",
   "metadata": {},
   "outputs": [
    {
     "name": "stdout",
     "output_type": "stream",
     "text": [
      "Всего пользователей, сделавших хотя бы 1 заказ: 1031\n",
      "Количество аномальных пользователей: 74\n",
      "Процент аномальных пользователей: 7.2%\n"
     ]
    }
   ],
   "source": [
    "# отбираем пользователей с аномальным числом заказов\n",
    "usersWithManyOrders = pd.concat(\n",
    "    [\n",
    "        ordersByUsersA[ordersByUsersA['orders'] > np.percentile(ordersByUsers['orders'],95)]['visitorId'],\n",
    "        ordersByUsersB[ordersByUsersB['orders'] > np.percentile(ordersByUsers['orders'],95)]['visitorId'],\n",
    "    ],\n",
    "    axis=0,\n",
    ")\n",
    "\n",
    "# отбираем пользователей с аномальной стоимостью заказов\n",
    "usersWithExpensiveOrders = orders[orders['revenue'] > np.percentile(orders['revenue'],95)]['visitorId']\n",
    "\n",
    "# объединяем всех аномальных пользователей\n",
    "abnormalUsers = (\n",
    "    pd.concat([usersWithManyOrders, usersWithExpensiveOrders], axis=0)\n",
    "    .drop_duplicates()\n",
    "    .sort_values()\n",
    ")\n",
    "print('Всего пользователей, сделавших хотя бы 1 заказ:',orders['visitorId'].nunique())\n",
    "print('Количество аномальных пользователей:',abnormalUsers.shape[0])\n",
    "print('Процент аномальных пользователей: {0:.1%}'.format(abnormalUsers.shape[0]/orders['visitorId'].nunique()))"
   ]
  },
  {
   "cell_type": "markdown",
   "id": "cfccbfde",
   "metadata": {},
   "source": [
    "### Сравнительный анализ неочищенных и очищенных данных"
   ]
  },
  {
   "cell_type": "markdown",
   "id": "c8079355",
   "metadata": {},
   "source": [
    "Посчитаем статистическую значимость различий в среднем количестве заказов на посетителя между группами по «сырым» данным."
   ]
  },
  {
   "cell_type": "markdown",
   "id": "f058a8d8",
   "metadata": {},
   "source": [
    "Раннее мы посчитали количество заказов на посетителей, которые хотя бы раз делали заказ (в датасете `orders` в принципе не может быть пользователей, не делавших заказов). Но так как нам нужно сравнить среднее количество заказов не на платящего пользователя, а именно на посетителя, а также то, что для проведения непараметрического теста Манна-Уитни, который мы хотим использовать, необходимо равенство размеров выборок, то перед проведением стат. теста, необходимо восстановить изначальную выборку всех пользователей, добавив посетителей, которые ни разу не далали заказ. Их количество равно разнице между суммой всех уникальных посетителей и суммой уникальных посетителей, сделавших хотя бы один заказ. Однако, мы не можем этого сделать, потому что у нас нет данных об уникальных идентификаторах тех посетителей, которые не сделали ни одного заказа (в отличие от тех, кто сделал хотя бы один заказ). Поэтому сделаем менее точный вариант: найдем просто разницу между количеством всех посетителей и количеством уникальных посетителей, сделавших хотя бы один заказ. На месте количества заказов для этих посетителей поставим нули."
   ]
  },
  {
   "cell_type": "markdown",
   "id": "870aa885",
   "metadata": {},
   "source": [
    "**Нулевая гипотеза H0:** Различия в среднем количестве заказов на пользователя между неочищенными от выбросов группами A/B-теста нет  \n",
    "**Альтернативная гипотеза H1:** Различие в среднем количестве заказов на пользователя между неочищенными от выбросов группами A/B-теста есть"
   ]
  },
  {
   "cell_type": "code",
   "execution_count": 26,
   "id": "bf9ed948",
   "metadata": {},
   "outputs": [
    {
     "name": "stdout",
     "output_type": "stream",
     "text": [
      "p-value: 0.017\n",
      "difference: 0.138\n"
     ]
    }
   ],
   "source": [
    "# добавляем нули пользователям группы A, которые ничего не заказали\n",
    "\n",
    "sampleA = pd.concat(\n",
    "    [\n",
    "        ordersByUsersA['orders'],\n",
    "        pd.Series(\n",
    "            0,\n",
    "            index=np.arange(\n",
    "                data['visitorsPerDateA'].sum() - len(ordersByUsersA['visitorId'])\n",
    "            ),\n",
    "            name='orders',\n",
    "        ),\n",
    "    ],\n",
    "    axis=0,\n",
    ")\n",
    "\n",
    "# добавляем нули пользователям группы B, которые ничего не заказали\n",
    "\n",
    "sampleB = pd.concat(\n",
    "    [\n",
    "        ordersByUsersB['orders'],\n",
    "        pd.Series(\n",
    "            0,\n",
    "            index=np.arange(\n",
    "                data['visitorsPerDateB'].sum() - len(ordersByUsersB['visitorId'])\n",
    "            ),\n",
    "            name='orders',\n",
    "        ),\n",
    "    ],\n",
    "    axis=0,\n",
    ")\n",
    "\n",
    "# считаем p-value тестом Манна-Уитни\n",
    "print('p-value: {0:.3f}'.format(st.mannwhitneyu(sampleA, sampleB)[1]))\n",
    "\n",
    "# считаем во сколько раз среднее число заказов на пользователя в группе B больше, чем в группе A\n",
    "print('difference: {0:.3f}'.format(sampleB.mean() / sampleA.mean() - 1))"
   ]
  },
  {
   "cell_type": "markdown",
   "id": "39dc9d2e",
   "metadata": {},
   "source": [
    "**Выводы:** \n",
    "- По неочищенным данным статистически значимое различие в среднем количестве заказов на посетителя есть, так как p-value < 0.05. Среднее количество заказов по неочищенным данным в группе B больше на 13.8%, чем в группе A. **Отвергаем нулевую гипотезу.**"
   ]
  },
  {
   "cell_type": "markdown",
   "id": "95ea3ab2",
   "metadata": {},
   "source": [
    "Посчитаем статистическую значимость различий в среднем чеке заказа между группами по «сырым» данным."
   ]
  },
  {
   "cell_type": "markdown",
   "id": "21dc91d9",
   "metadata": {},
   "source": [
    "**Нулевая гипотеза H0:** Различия в среднем чеке между неочищенными от выбросов группами A/B-теста нет  \n",
    "**Альтернативная гипотеза H1:** Различие в среднем чеке между неочищенными от выбросов группами A/B-теста есть"
   ]
  },
  {
   "cell_type": "code",
   "execution_count": 27,
   "id": "ee646af6",
   "metadata": {},
   "outputs": [
    {
     "name": "stdout",
     "output_type": "stream",
     "text": [
      "p-value: 0.729\n",
      "difference: 0.259\n"
     ]
    }
   ],
   "source": [
    "# считаем p-value тестом Манна-Уитни\n",
    "print('p-value: {0:.3f}'.format(st.mannwhitneyu(orders[orders['group']=='A']['revenue'], orders[orders['group']=='B']['revenue'])[1]))\n",
    "\n",
    "# считаем во сколько раз средний чек в группе B больше, чем в группе A\n",
    "print('difference: {0:.3f}'.format(orders[orders['group']=='B']['revenue'].mean()/orders[orders['group']=='A']['revenue'].mean()-1))"
   ]
  },
  {
   "cell_type": "markdown",
   "id": "66688161",
   "metadata": {},
   "source": [
    "**Выводы:**\n",
    "- По неочищенным данным, не смотря на то, что средний чек в группе B оказался на 25.9% больше, чем в группе A, статистически значимого различия в среднем чеке групп A и B нет, так как p-value > 0.05, причем значительно. **Не отвергаем нулевую гипотезу**"
   ]
  },
  {
   "cell_type": "markdown",
   "id": "7d96abb9",
   "metadata": {},
   "source": [
    "Посчитаем статистическую значимость различий в среднем количестве заказов на посетителя между группами по «очищенным» данным."
   ]
  },
  {
   "cell_type": "markdown",
   "id": "9519b08a",
   "metadata": {},
   "source": [
    "**Нулевая гипотеза H0:** Различия в среднем количестве заказов на пользователя между очищенными от выбросов группами A/B-теста нет  \n",
    "**Альтернативная гипотеза H1:** Различие в среднем количестве заказов на пользователя между очищенными от выбросов группами A/B-теста есть"
   ]
  },
  {
   "cell_type": "code",
   "execution_count": 28,
   "id": "12ddfa5c",
   "metadata": {},
   "outputs": [
    {
     "name": "stdout",
     "output_type": "stream",
     "text": [
      "p-value: 0.013\n",
      "difference: 0.173\n"
     ]
    }
   ],
   "source": [
    "# устраняем аномальных пользователей в группе A\n",
    "# добавляем нули пользователям группы A, которые ничего не заказали\n",
    "\n",
    "sampleAFiltered = pd.concat(\n",
    "    [\n",
    "        ordersByUsersA[\n",
    "            np.logical_not(ordersByUsersA['visitorId'].isin(abnormalUsers))\n",
    "        ]['orders'],\n",
    "        pd.Series(\n",
    "            0,\n",
    "            index=np.arange(\n",
    "                data['visitorsPerDateA'].sum() - len(ordersByUsersA['visitorId'])\n",
    "            ),\n",
    "            name='orders',\n",
    "        ),\n",
    "    ],\n",
    "    axis=0,\n",
    ")\n",
    "\n",
    "# устраняем аномальных пользователей в группе B\n",
    "# добавляем нули пользователям группы B, которые ничего не заказали\n",
    "\n",
    "\n",
    "sampleBFiltered = pd.concat(\n",
    "    [\n",
    "        ordersByUsersB[\n",
    "            np.logical_not(ordersByUsersB['visitorId'].isin(abnormalUsers))\n",
    "        ]['orders'],\n",
    "        pd.Series(\n",
    "            0,\n",
    "            index=np.arange(\n",
    "                data['visitorsPerDateB'].sum() - len(ordersByUsersB['visitorId'])\n",
    "            ),\n",
    "            name='orders',\n",
    "        ),\n",
    "    ],\n",
    "    axis=0,\n",
    ")\n",
    "\n",
    "# считаем p-value тестом Манна-Уитни\n",
    "print('p-value: {0:.3f}'.format(st.mannwhitneyu(sampleAFiltered, sampleBFiltered)[1]))\n",
    "\n",
    "# считаем во сколько раз среднее число заказов на пользователя в группе B больше, чем в группе A\n",
    "print('difference: {0:.3f}'.format(sampleBFiltered.mean()/sampleAFiltered.mean()-1))"
   ]
  },
  {
   "cell_type": "markdown",
   "id": "5287061f",
   "metadata": {},
   "source": [
    "**Выводы:**\n",
    "- По очищенным данным статистически значимое различие в среднем количестве заказов на посетителя также (как и по неочищенным данным) есть, так как p-value < 0.05. Среднее количество заказов по очищенным данным в группе B больше на 17.3%, чем в группе A. **Отвергаем нулевую гипотезу**"
   ]
  },
  {
   "cell_type": "markdown",
   "id": "d315f86b",
   "metadata": {},
   "source": [
    "Посчитаем статистическую значимость различий в среднем чеке заказа между группами по «очищенным» данным."
   ]
  },
  {
   "cell_type": "markdown",
   "id": "544e4866",
   "metadata": {},
   "source": [
    "**Нулевая гипотеза H0:** Различия в среднем чеке между очищенными от выбросов группами A/B-теста нет  \n",
    "**Альтернативная гипотеза H1:** Различие в среднем чеке между очищенными от выбросов группами A/B-теста есть"
   ]
  },
  {
   "cell_type": "code",
   "execution_count": 29,
   "id": "43b1b6bd",
   "metadata": {},
   "outputs": [
    {
     "name": "stdout",
     "output_type": "stream",
     "text": [
      "p-value: 0.738\n",
      "difference: -0.020\n"
     ]
    }
   ],
   "source": [
    "# устранаяем аномальных пользователей\n",
    "# считаем p-value тестом Манна-Уитни\n",
    "\n",
    "print(\n",
    "    'p-value: {0:.3f}'.format(\n",
    "        st.mannwhitneyu(\n",
    "            orders[\n",
    "                np.logical_and(\n",
    "                    orders['group'] == 'A',\n",
    "                    np.logical_not(orders['visitorId'].isin(abnormalUsers)),\n",
    "                )\n",
    "            ]['revenue'],\n",
    "            orders[\n",
    "                np.logical_and(\n",
    "                    orders['group'] == 'B',\n",
    "                    np.logical_not(orders['visitorId'].isin(abnormalUsers)),\n",
    "                )\n",
    "            ]['revenue'],\n",
    "        )[1]\n",
    "    )\n",
    ")\n",
    "\n",
    "# устранаяем аномальных пользователей\n",
    "# считаем во сколько раз средний чек в группе B больше, чем в группе A\n",
    "\n",
    "print(\n",
    "    'difference: {0:.3f}'.format(\n",
    "        orders[\n",
    "            np.logical_and(\n",
    "                orders['group'] == 'B',\n",
    "                np.logical_not(orders['visitorId'].isin(abnormalUsers)),\n",
    "            )\n",
    "        ]['revenue'].mean()\n",
    "        / orders[\n",
    "            np.logical_and(\n",
    "                orders['group'] == 'A',\n",
    "                np.logical_not(orders['visitorId'].isin(abnormalUsers)),\n",
    "            )\n",
    "        ]['revenue'].mean()\n",
    "        - 1\n",
    "    )\n",
    ")"
   ]
  },
  {
   "cell_type": "markdown",
   "id": "9449861b",
   "metadata": {},
   "source": [
    "**Выводы:**\n",
    "- По очищенным данным статистически значимого различия в среднем чеке групп A и B нет (как и по неочищенным данным), так как p-value > 0.05, причем значительно. По очищенным данным средний чек в группе B на 2.0% меньше, чем в группе A. **Не отвергаем нулевую гипотезу**"
   ]
  },
  {
   "cell_type": "markdown",
   "id": "156f48d1",
   "metadata": {},
   "source": [
    "### Дополнительный раздел. Графики без аномалий"
   ]
  },
  {
   "cell_type": "markdown",
   "id": "05aa6537",
   "metadata": {},
   "source": [
    "Построим график кумулятивной выручки по группам без выбросов."
   ]
  },
  {
   "cell_type": "code",
   "execution_count": 30,
   "id": "ecd147d3",
   "metadata": {
    "scrolled": false
   },
   "outputs": [
    {
     "data": {
      "image/png": "[encoded data removed]",
      "text/plain": [
       "<Figure size 640x480 with 1 Axes>"
      ]
     },
     "metadata": {},
     "output_type": "display_data"
    }
   ],
   "source": [
    "# отберем заказы без аномальных пользователей\n",
    "orders_filtered = orders[np.logical_not(\n",
    "    orders['visitorId'].isin(abnormalUsers))]\n",
    "\n",
    "# создаем массив уникальных пар значений дат и групп теста\n",
    "datesGroups = orders_filtered[['date','group']].drop_duplicates()\n",
    "\n",
    "# получаем агрегированные кумулятивные по дням данные о заказах \n",
    "cumulativeData = datesGroups.apply(\n",
    "    lambda x: orders_filtered[np.logical_and(orders_filtered['date'] <= x['date'],\n",
    "                                    orders_filtered['group'] == x['group'])]\n",
    "    .agg({'date' : 'max', \n",
    "          'group' : 'max', \n",
    "          'transactionId' : 'nunique',\n",
    "          'visitorId' : 'nunique',\n",
    "          'revenue' : 'sum'}), axis=1).sort_values(by=['date','group'])\n",
    "cumulativeData.columns = ['date', 'group', 'orders', 'buyers', 'revenue']\n",
    "\n",
    "# датафрейм с кумулятивным количеством заказов и кумулятивной выручкой по дням в группе А\n",
    "cumulativeRevenueA = cumulativeData[cumulativeData['group']=='A'][['date','revenue', 'orders']]\n",
    "\n",
    "# датафрейм с кумулятивным количеством заказов и кумулятивной выручкой по дням в группе B\n",
    "cumulativeRevenueB = cumulativeData[cumulativeData['group']=='B'][['date','revenue', 'orders']]\n",
    "\n",
    "# cтроим график выручки группы А\n",
    "plt.plot(cumulativeRevenueA['date'], cumulativeRevenueA['revenue'], label='A')\n",
    "\n",
    "# cтроим график выручки группы B\n",
    "plt.plot(cumulativeRevenueB['date'], cumulativeRevenueB['revenue'], label='B')\n",
    "\n",
    "# улучшаем отображение значений на горизонтальной оси\n",
    "min_date = min(data['date'])\n",
    "max_date = max(data['date'])\n",
    "plt.xticks(pd.date_range(min_date, max_date, 5))\n",
    "\n",
    "# добавим заголовок, подпишем оси и добавим легенду\n",
    "plt.title('Кумулятивная выручка по группам')\n",
    "plt.xlabel('Дата')\n",
    "plt.ylabel('Выручка')\n",
    "plt.legend()\n",
    "\n",
    "plt.show()"
   ]
  },
  {
   "cell_type": "markdown",
   "id": "d0a660bd",
   "metadata": {},
   "source": [
    "**Выводы:** \n",
    "- Пользователи с аномальными заказами дествительно влияли на график кумулятивной выручки, теперь выручка равноверно и стабильно растет у обеих групп. При этом выручка группы B стабильно выше группы A."
   ]
  },
  {
   "cell_type": "markdown",
   "id": "f84a1b6f",
   "metadata": {},
   "source": [
    "Построим график кумулятивного среднего чека без выбросов"
   ]
  },
  {
   "cell_type": "code",
   "execution_count": 31,
   "id": "8e1d880e",
   "metadata": {},
   "outputs": [
    {
     "data": {
      "image/png": "[encoded data removed]",
      "text/plain": [
       "<Figure size 640x480 with 1 Axes>"
      ]
     },
     "metadata": {},
     "output_type": "display_data"
    }
   ],
   "source": [
    "# строим график среднего чека без выбросов\n",
    "plt.plot(cumulativeRevenueA['date'], cumulativeRevenueA['revenue']/cumulativeRevenueA['orders'], label='A')\n",
    "plt.plot(cumulativeRevenueB['date'], cumulativeRevenueB['revenue']/cumulativeRevenueB['orders'], label='B')\n",
    "\n",
    "# улучшаем отображение значений на горизонтальной оси\n",
    "plt.xticks(pd.date_range(min_date, max_date, 5))\n",
    "\n",
    "# добавим заголовок, подпишем оси и добавим легенду\n",
    "plt.title('Кумулятивный средний чек по группам')\n",
    "plt.xlabel('Дата')\n",
    "plt.ylabel('Средний чек')\n",
    "plt.legend()\n",
    "\n",
    "plt.show()"
   ]
  },
  {
   "cell_type": "markdown",
   "id": "c684c0bd",
   "metadata": {},
   "source": [
    "**Выводы:**\n",
    "- Кумулятивный средний чек после удаления выбросов выглядит намного более стабильным, чем по неочищенным данным. Однако колебания есть и сложно сказать, устоялось ли положение. Но в тоже время стоит отметить, что эти колебания идут около некоторого единого значения среднего чека и нельзя сказать, что какая-то из групп имеет тендеции к лидерству."
   ]
  },
  {
   "cell_type": "markdown",
   "id": "b8e8637c",
   "metadata": {},
   "source": [
    "Построим график относительного изменения кумулятивного среднего чека группы B к группе A."
   ]
  },
  {
   "cell_type": "code",
   "execution_count": 32,
   "id": "18b56bdc",
   "metadata": {},
   "outputs": [
    {
     "data": {
      "image/png": "[encoded data removed]",
      "text/plain": [
       "<Figure size 640x480 with 1 Axes>"
      ]
     },
     "metadata": {},
     "output_type": "display_data"
    }
   ],
   "source": [
    "# собираем данные в одном датафрейме\n",
    "mergedCumulativeRevenue = cumulativeRevenueA.merge(cumulativeRevenueB, left_on='date', right_on='date', how='left', suffixes=['A', 'B'])\n",
    "\n",
    "# cтроим отношение средних чеков\n",
    "plt.plot(mergedCumulativeRevenue['date'], (mergedCumulativeRevenue['revenueB']/mergedCumulativeRevenue['ordersB'])/(mergedCumulativeRevenue['revenueA']/mergedCumulativeRevenue['ordersA'])-1)\n",
    "\n",
    "# добавляем горизонтальную линию\n",
    "plt.axhline(y=0, color='black', linestyle='--')\n",
    "\n",
    "# улучшаем отображение значений на горизонтальной оси\n",
    "plt.xticks(pd.date_range(min_date, max_date, 5))\n",
    "\n",
    "# добавим заголовок, подпишем оси\n",
    "plt.title('Отношение кум. ср. чека группы B к группе A')\n",
    "plt.xlabel('Дата')\n",
    "plt.ylabel('B/A-1')\n",
    "\n",
    "plt.show()"
   ]
  },
  {
   "cell_type": "markdown",
   "id": "ba176ec1",
   "metadata": {},
   "source": [
    "**Выводы:**\n",
    "- То же самое можно сказать про график относительного различия для среднего чека. Колебания намного меньше, чем без выбросов, но они достаточно существенные для того, чтобы говорить, что ситуация устоялась. Хотя стоит отметить, что колебания идут около нулевой отметки и признаков того, что в ближайшей перспектике какая-то из групп возьмет лидерство, скорее нет. Можно также сделать осторожное предположение, что так как амплитуда колебаний уменьшается, то возможно в будущем значение отношения средних чеков будет постепенно приближаться в нулевой отметке."
   ]
  },
  {
   "cell_type": "markdown",
   "id": "6a77a3ea",
   "metadata": {},
   "source": [
    "Также хорошо было бы построить графики кумулятивного среднего количества заказов на посетителя, чтобы посмотреть на эти графики без аномалий, но мы не может это сделать из-за недостатка данных: у нас нет информации о том, какие именно пользователи были посетителями, поэтому мы не может убрать аномальных пользователей из посетителей."
   ]
  },
  {
   "cell_type": "markdown",
   "id": "7ce50e86",
   "metadata": {},
   "source": [
    "## Выводы и рекомендации"
   ]
  },
  {
   "cell_type": "markdown",
   "id": "248718f3",
   "metadata": {},
   "source": [
    "**В ходе исследования выполнено:**\n",
    "- Приоритезированы гипотезы во фреймворках ICE и RICE\n",
    "- Проведен анализ кумулятивных выручки, среднего чека и количества заказов по группам A/B-теста\n",
    "- Произведена оценка аномалий в данных и их устранение\n",
    "- С помощью статистических тестов проанализированы различия в среднем чеке и количестве заказов по группам A/B-теста по неочищенным и очищенным от выбросов данным\n",
    "\n",
    "**Общие выводе по работе:**\n",
    "- Как по сырым, так и по очищенным данным есть статистически значимое различие в среднем количестве заказов на посетителя групп A и B. Среднее количество заказов по неочищенным данным в группе B больше, чем в группе A, на 13.8% по очищенным - на 17.3%\n",
    "- Судя по графику кумулятивного среднего количества заказов на посетителя по неочищенным данным, группа B стабильно выигрывает\n",
    "- Как по сырым, так и по очищенным данным нет статистически значимого различия в среднем чеке групп A и B\n",
    "- По графикам кумулятивного среднего чека как по очищенным, так и по неочищенным данным нельзя с уверенностью сказать, что значения среднего чека установились, однако можно осторожно предположить, что значения относительного изменения кумулятивного среднего чека группы B к группе A по очищенным данным стремятся к установлению около нуля\n",
    "\n",
    "**Рекомендации:**\n",
    "- Исходя из обнаруженных фактов, **тест можно остановить и признать успешным: группа B будет приносить статистически значимо больше выручки, чем группа A**. Однако стоит отметить, что хотя по количеству заказов группа B явно выигрывает, статистически значимой разницы в среднем чеке групп A и B нет."
   ]
  }
 ],
 "metadata": {
  "ExecuteTimeLog": [
   {
    "duration": 54,
    "start_time": "2023-02-23T11:18:31.350Z"
   },
   {
    "duration": 1440,
    "start_time": "2023-02-23T11:18:35.347Z"
   },
   {
    "duration": 589,
    "start_time": "2023-02-23T11:18:36.789Z"
   },
   {
    "duration": 4,
    "start_time": "2023-02-23T11:18:37.382Z"
   },
   {
    "duration": 1134,
    "start_time": "2023-02-23T11:18:37.389Z"
   },
   {
    "duration": 13,
    "start_time": "2023-02-23T11:18:38.525Z"
   },
   {
    "duration": 41,
    "start_time": "2023-02-23T11:18:38.541Z"
   },
   {
    "duration": 23,
    "start_time": "2023-02-23T11:18:38.584Z"
   },
   {
    "duration": 180,
    "start_time": "2023-02-23T11:18:38.609Z"
   },
   {
    "duration": 178,
    "start_time": "2023-02-23T11:18:38.790Z"
   },
   {
    "duration": 223,
    "start_time": "2023-02-23T11:18:38.971Z"
   },
   {
    "duration": 4,
    "start_time": "2023-02-23T11:18:39.196Z"
   },
   {
    "duration": 247,
    "start_time": "2023-02-23T11:18:39.201Z"
   },
   {
    "duration": 170,
    "start_time": "2023-02-23T11:18:39.453Z"
   },
   {
    "duration": 297,
    "start_time": "2023-02-23T11:18:39.624Z"
   },
   {
    "duration": 265,
    "start_time": "2023-02-23T11:18:39.923Z"
   },
   {
    "duration": 232,
    "start_time": "2023-02-23T11:18:40.190Z"
   },
   {
    "duration": 155,
    "start_time": "2023-02-23T11:18:40.424Z"
   },
   {
    "duration": 9,
    "start_time": "2023-02-23T11:18:40.586Z"
   },
   {
    "duration": 151,
    "start_time": "2023-02-23T11:18:40.597Z"
   },
   {
    "duration": 14,
    "start_time": "2023-02-23T11:18:40.757Z"
   },
   {
    "duration": 162,
    "start_time": "2023-02-23T11:18:40.779Z"
   },
   {
    "duration": 22,
    "start_time": "2023-02-23T11:18:40.943Z"
   },
   {
    "duration": 51,
    "start_time": "2023-02-23T11:18:40.968Z"
   },
   {
    "duration": 11,
    "start_time": "2023-02-23T11:18:41.021Z"
   },
   {
    "duration": 63,
    "start_time": "2023-02-23T11:18:41.034Z"
   },
   {
    "duration": 22,
    "start_time": "2023-02-23T11:18:41.099Z"
   },
   {
    "duration": 376,
    "start_time": "2023-02-23T11:18:41.124Z"
   },
   {
    "duration": 176,
    "start_time": "2023-02-23T11:18:41.504Z"
   },
   {
    "duration": 222,
    "start_time": "2023-02-23T11:18:41.687Z"
   },
   {
    "duration": 177,
    "start_time": "2023-02-23T11:19:25.298Z"
   },
   {
    "duration": 191,
    "start_time": "2023-02-23T11:19:34.630Z"
   },
   {
    "duration": 184,
    "start_time": "2023-02-23T11:20:13.087Z"
   },
   {
    "duration": 168,
    "start_time": "2023-02-23T11:20:23.619Z"
   },
   {
    "duration": 163,
    "start_time": "2023-02-23T11:21:10.156Z"
   },
   {
    "duration": 183,
    "start_time": "2023-02-23T11:23:33.544Z"
   },
   {
    "duration": 5,
    "start_time": "2023-02-23T11:24:03.819Z"
   },
   {
    "duration": 198,
    "start_time": "2023-02-23T11:24:05.574Z"
   },
   {
    "duration": 18,
    "start_time": "2023-02-23T11:28:45.946Z"
   },
   {
    "duration": 14,
    "start_time": "2023-02-23T11:30:08.405Z"
   },
   {
    "duration": 9,
    "start_time": "2023-02-23T11:35:10.519Z"
   },
   {
    "duration": 8,
    "start_time": "2023-02-23T11:35:47.283Z"
   },
   {
    "duration": 77,
    "start_time": "2023-02-23T11:36:17.629Z"
   },
   {
    "duration": 5,
    "start_time": "2023-02-23T11:38:51.489Z"
   },
   {
    "duration": 9,
    "start_time": "2023-02-23T11:38:59.109Z"
   },
   {
    "duration": 18,
    "start_time": "2023-02-23T11:39:57.901Z"
   },
   {
    "duration": 6,
    "start_time": "2023-02-23T11:40:00.742Z"
   },
   {
    "duration": 14,
    "start_time": "2023-02-23T11:40:25.148Z"
   },
   {
    "duration": 7,
    "start_time": "2023-02-23T11:40:56.782Z"
   },
   {
    "duration": 15,
    "start_time": "2023-02-23T11:41:21.469Z"
   },
   {
    "duration": 111,
    "start_time": "2023-02-23T11:41:24.759Z"
   },
   {
    "duration": 6,
    "start_time": "2023-02-23T11:42:13.912Z"
   },
   {
    "duration": 13,
    "start_time": "2023-02-23T11:42:34.423Z"
   },
   {
    "duration": 6,
    "start_time": "2023-02-23T11:42:42.847Z"
   },
   {
    "duration": 15,
    "start_time": "2023-02-23T11:43:15.075Z"
   },
   {
    "duration": 6,
    "start_time": "2023-02-23T11:46:03.838Z"
   },
   {
    "duration": 7,
    "start_time": "2023-02-23T11:46:44.030Z"
   },
   {
    "duration": 7,
    "start_time": "2023-02-23T11:46:54.312Z"
   },
   {
    "duration": 8,
    "start_time": "2023-02-23T11:47:17.288Z"
   },
   {
    "duration": 13,
    "start_time": "2023-02-23T11:47:37.580Z"
   },
   {
    "duration": 10,
    "start_time": "2023-02-23T11:48:26.242Z"
   },
   {
    "duration": 21,
    "start_time": "2023-02-23T11:48:44.346Z"
   },
   {
    "duration": 10,
    "start_time": "2023-02-23T11:48:54.438Z"
   },
   {
    "duration": 10,
    "start_time": "2023-02-23T11:49:00.428Z"
   },
   {
    "duration": 12,
    "start_time": "2023-02-23T11:49:04.289Z"
   },
   {
    "duration": 8,
    "start_time": "2023-02-23T11:49:18.098Z"
   },
   {
    "duration": 10,
    "start_time": "2023-02-23T11:50:47.701Z"
   },
   {
    "duration": 9,
    "start_time": "2023-02-23T11:51:06.517Z"
   },
   {
    "duration": 9,
    "start_time": "2023-02-23T11:51:16.640Z"
   },
   {
    "duration": 114,
    "start_time": "2023-02-23T11:56:22.350Z"
   },
   {
    "duration": 4,
    "start_time": "2023-02-23T12:01:56.721Z"
   },
   {
    "duration": 5,
    "start_time": "2023-02-23T12:02:16.489Z"
   },
   {
    "duration": 5,
    "start_time": "2023-02-23T12:03:30.513Z"
   },
   {
    "duration": 4,
    "start_time": "2023-02-23T12:03:58.194Z"
   },
   {
    "duration": 5,
    "start_time": "2023-02-23T12:04:02.128Z"
   },
   {
    "duration": 12,
    "start_time": "2023-02-23T12:04:07.353Z"
   },
   {
    "duration": 12,
    "start_time": "2023-02-23T12:04:35.482Z"
   },
   {
    "duration": 10,
    "start_time": "2023-02-23T12:04:38.699Z"
   },
   {
    "duration": 9,
    "start_time": "2023-02-23T12:05:23.803Z"
   },
   {
    "duration": 11,
    "start_time": "2023-02-23T12:05:36.986Z"
   },
   {
    "duration": 15,
    "start_time": "2023-02-23T12:06:47.746Z"
   },
   {
    "duration": 14,
    "start_time": "2023-02-23T12:09:23.850Z"
   },
   {
    "duration": 11,
    "start_time": "2023-02-23T12:09:38.813Z"
   },
   {
    "duration": 5,
    "start_time": "2023-02-23T12:09:45.620Z"
   },
   {
    "duration": 13,
    "start_time": "2023-02-23T12:10:03.485Z"
   },
   {
    "duration": 12,
    "start_time": "2023-02-23T12:10:35.502Z"
   },
   {
    "duration": 6,
    "start_time": "2023-02-23T12:11:22.983Z"
   },
   {
    "duration": 5,
    "start_time": "2023-02-23T12:11:28.181Z"
   },
   {
    "duration": 127,
    "start_time": "2023-02-23T12:15:10.084Z"
   },
   {
    "duration": 167,
    "start_time": "2023-02-23T12:16:04.511Z"
   },
   {
    "duration": 188,
    "start_time": "2023-02-23T12:17:19.783Z"
   },
   {
    "duration": 199,
    "start_time": "2023-02-23T12:17:28.224Z"
   },
   {
    "duration": 151,
    "start_time": "2023-02-23T12:17:31.598Z"
   },
   {
    "duration": 182,
    "start_time": "2023-02-23T12:17:34.207Z"
   },
   {
    "duration": 173,
    "start_time": "2023-02-23T12:17:43.897Z"
   },
   {
    "duration": 219,
    "start_time": "2023-02-23T12:17:47.432Z"
   },
   {
    "duration": 199,
    "start_time": "2023-02-23T12:17:51.179Z"
   },
   {
    "duration": 206,
    "start_time": "2023-02-23T12:17:57.826Z"
   },
   {
    "duration": 142,
    "start_time": "2023-02-23T12:23:20.982Z"
   },
   {
    "duration": 9,
    "start_time": "2023-02-23T12:24:11.973Z"
   },
   {
    "duration": 4,
    "start_time": "2023-02-23T12:24:47.207Z"
   },
   {
    "duration": 5,
    "start_time": "2023-02-23T12:25:32.004Z"
   },
   {
    "duration": 4,
    "start_time": "2023-02-23T12:26:18.705Z"
   },
   {
    "duration": 3,
    "start_time": "2023-02-23T12:26:28.679Z"
   },
   {
    "duration": 155,
    "start_time": "2023-02-23T12:32:06.416Z"
   },
   {
    "duration": 17,
    "start_time": "2023-02-23T12:32:08.151Z"
   },
   {
    "duration": 9,
    "start_time": "2023-02-23T12:35:16.722Z"
   },
   {
    "duration": 4,
    "start_time": "2023-02-23T12:35:47.032Z"
   },
   {
    "duration": 16,
    "start_time": "2023-02-23T12:37:27.273Z"
   },
   {
    "duration": 12,
    "start_time": "2023-02-23T12:37:32.043Z"
   },
   {
    "duration": 11,
    "start_time": "2023-02-23T12:38:21.380Z"
   },
   {
    "duration": 12,
    "start_time": "2023-02-23T12:39:07.914Z"
   },
   {
    "duration": 11,
    "start_time": "2023-02-23T12:39:11.571Z"
   },
   {
    "duration": 100,
    "start_time": "2023-02-23T12:39:30.550Z"
   },
   {
    "duration": 11,
    "start_time": "2023-02-23T12:39:36.927Z"
   },
   {
    "duration": 11,
    "start_time": "2023-02-23T12:39:46.445Z"
   },
   {
    "duration": 10,
    "start_time": "2023-02-23T12:39:50.816Z"
   },
   {
    "duration": 17,
    "start_time": "2023-02-23T12:39:56.154Z"
   },
   {
    "duration": 17,
    "start_time": "2023-02-23T12:40:00.914Z"
   },
   {
    "duration": 17,
    "start_time": "2023-02-23T12:40:06.614Z"
   },
   {
    "duration": 21,
    "start_time": "2023-02-23T12:40:27.882Z"
   },
   {
    "duration": 10,
    "start_time": "2023-02-23T12:40:34.317Z"
   },
   {
    "duration": 22,
    "start_time": "2023-02-23T12:42:06.566Z"
   },
   {
    "duration": 13,
    "start_time": "2023-02-23T12:42:34.310Z"
   },
   {
    "duration": 12,
    "start_time": "2023-02-23T12:42:40.173Z"
   },
   {
    "duration": 11,
    "start_time": "2023-02-23T12:42:45.876Z"
   },
   {
    "duration": 10,
    "start_time": "2023-02-23T12:42:50.717Z"
   },
   {
    "duration": 14,
    "start_time": "2023-02-23T12:43:05.430Z"
   },
   {
    "duration": 1202,
    "start_time": "2023-02-23T12:53:06.074Z"
   },
   {
    "duration": 554,
    "start_time": "2023-02-23T12:53:07.279Z"
   },
   {
    "duration": 5,
    "start_time": "2023-02-23T12:53:07.835Z"
   },
   {
    "duration": 130,
    "start_time": "2023-02-23T12:53:07.842Z"
   },
   {
    "duration": 13,
    "start_time": "2023-02-23T12:53:07.974Z"
   },
   {
    "duration": 6,
    "start_time": "2023-02-23T12:53:07.989Z"
   },
   {
    "duration": 10,
    "start_time": "2023-02-23T12:53:07.997Z"
   },
   {
    "duration": 211,
    "start_time": "2023-02-23T12:53:08.008Z"
   },
   {
    "duration": 174,
    "start_time": "2023-02-23T12:53:08.221Z"
   },
   {
    "duration": 124,
    "start_time": "2023-02-23T12:53:08.396Z"
   },
   {
    "duration": 0,
    "start_time": "2023-02-23T12:53:08.523Z"
   },
   {
    "duration": 0,
    "start_time": "2023-02-23T12:53:08.524Z"
   },
   {
    "duration": 0,
    "start_time": "2023-02-23T12:53:08.525Z"
   },
   {
    "duration": 0,
    "start_time": "2023-02-23T12:53:08.526Z"
   },
   {
    "duration": 0,
    "start_time": "2023-02-23T12:53:08.528Z"
   },
   {
    "duration": 0,
    "start_time": "2023-02-23T12:53:08.529Z"
   },
   {
    "duration": 0,
    "start_time": "2023-02-23T12:53:08.530Z"
   },
   {
    "duration": 0,
    "start_time": "2023-02-23T12:53:08.532Z"
   },
   {
    "duration": 0,
    "start_time": "2023-02-23T12:53:08.557Z"
   },
   {
    "duration": 0,
    "start_time": "2023-02-23T12:53:08.558Z"
   },
   {
    "duration": 0,
    "start_time": "2023-02-23T12:53:08.560Z"
   },
   {
    "duration": 0,
    "start_time": "2023-02-23T12:53:08.561Z"
   },
   {
    "duration": 0,
    "start_time": "2023-02-23T12:53:08.562Z"
   },
   {
    "duration": 0,
    "start_time": "2023-02-23T12:53:08.563Z"
   },
   {
    "duration": 0,
    "start_time": "2023-02-23T12:53:08.565Z"
   },
   {
    "duration": 0,
    "start_time": "2023-02-23T12:53:08.566Z"
   },
   {
    "duration": 1,
    "start_time": "2023-02-23T12:53:08.566Z"
   },
   {
    "duration": 0,
    "start_time": "2023-02-23T12:53:08.567Z"
   },
   {
    "duration": 0,
    "start_time": "2023-02-23T12:53:08.568Z"
   },
   {
    "duration": 0,
    "start_time": "2023-02-23T12:53:08.569Z"
   },
   {
    "duration": 0,
    "start_time": "2023-02-23T12:53:08.570Z"
   },
   {
    "duration": 0,
    "start_time": "2023-02-23T12:53:08.571Z"
   },
   {
    "duration": 16,
    "start_time": "2023-02-23T12:54:52.050Z"
   },
   {
    "duration": 6,
    "start_time": "2023-02-23T12:54:57.114Z"
   },
   {
    "duration": 1072,
    "start_time": "2023-02-23T12:55:12.170Z"
   },
   {
    "duration": 340,
    "start_time": "2023-02-23T12:55:13.244Z"
   },
   {
    "duration": 3,
    "start_time": "2023-02-23T12:55:13.586Z"
   },
   {
    "duration": 124,
    "start_time": "2023-02-23T12:55:13.592Z"
   },
   {
    "duration": 17,
    "start_time": "2023-02-23T12:55:13.717Z"
   },
   {
    "duration": 8,
    "start_time": "2023-02-23T12:55:13.735Z"
   },
   {
    "duration": 24,
    "start_time": "2023-02-23T12:55:13.745Z"
   },
   {
    "duration": 199,
    "start_time": "2023-02-23T12:55:13.770Z"
   },
   {
    "duration": 156,
    "start_time": "2023-02-23T12:55:13.970Z"
   },
   {
    "duration": 5,
    "start_time": "2023-02-23T12:55:14.128Z"
   },
   {
    "duration": 25,
    "start_time": "2023-02-23T12:55:14.134Z"
   },
   {
    "duration": 266,
    "start_time": "2023-02-23T12:55:14.165Z"
   },
   {
    "duration": 4,
    "start_time": "2023-02-23T12:55:14.433Z"
   },
   {
    "duration": 261,
    "start_time": "2023-02-23T12:55:14.439Z"
   },
   {
    "duration": 171,
    "start_time": "2023-02-23T12:55:14.702Z"
   },
   {
    "duration": 264,
    "start_time": "2023-02-23T12:55:14.875Z"
   },
   {
    "duration": 187,
    "start_time": "2023-02-23T12:55:15.142Z"
   },
   {
    "duration": 334,
    "start_time": "2023-02-23T12:55:15.332Z"
   },
   {
    "duration": 164,
    "start_time": "2023-02-23T12:55:15.667Z"
   },
   {
    "duration": 5,
    "start_time": "2023-02-23T12:55:15.833Z"
   },
   {
    "duration": 175,
    "start_time": "2023-02-23T12:55:15.841Z"
   },
   {
    "duration": 251,
    "start_time": "2023-02-23T12:55:16.018Z"
   },
   {
    "duration": 5,
    "start_time": "2023-02-23T12:55:16.271Z"
   },
   {
    "duration": 152,
    "start_time": "2023-02-23T12:55:16.278Z"
   },
   {
    "duration": 13,
    "start_time": "2023-02-23T12:55:16.432Z"
   },
   {
    "duration": 42,
    "start_time": "2023-02-23T12:55:16.447Z"
   },
   {
    "duration": 12,
    "start_time": "2023-02-23T12:55:16.491Z"
   },
   {
    "duration": 60,
    "start_time": "2023-02-23T12:55:16.506Z"
   },
   {
    "duration": 16,
    "start_time": "2023-02-23T12:55:16.568Z"
   },
   {
    "duration": 349,
    "start_time": "2023-02-23T12:55:16.586Z"
   },
   {
    "duration": 176,
    "start_time": "2023-02-23T12:55:16.936Z"
   },
   {
    "duration": 294,
    "start_time": "2023-02-23T12:55:17.114Z"
   },
   {
    "duration": 130,
    "start_time": "2023-02-23T12:56:56.160Z"
   },
   {
    "duration": 3,
    "start_time": "2023-02-23T12:58:43.891Z"
   },
   {
    "duration": 325,
    "start_time": "2023-02-23T13:02:01.472Z"
   },
   {
    "duration": 355,
    "start_time": "2023-02-23T13:04:02.442Z"
   },
   {
    "duration": 326,
    "start_time": "2023-02-23T13:04:10.476Z"
   },
   {
    "duration": 265,
    "start_time": "2023-02-23T13:06:08.624Z"
   },
   {
    "duration": 321,
    "start_time": "2023-02-23T13:06:36.734Z"
   },
   {
    "duration": 4,
    "start_time": "2023-02-23T13:08:07.293Z"
   },
   {
    "duration": 136,
    "start_time": "2023-02-23T13:08:26.775Z"
   },
   {
    "duration": 119,
    "start_time": "2023-02-23T13:08:35.132Z"
   },
   {
    "duration": 155,
    "start_time": "2023-02-23T13:08:51.779Z"
   },
   {
    "duration": 211,
    "start_time": "2023-02-23T13:09:08.474Z"
   },
   {
    "duration": 15,
    "start_time": "2023-02-23T13:13:38.123Z"
   },
   {
    "duration": 283,
    "start_time": "2023-02-23T13:14:06.235Z"
   },
   {
    "duration": 23,
    "start_time": "2023-02-23T13:14:17.749Z"
   },
   {
    "duration": 14,
    "start_time": "2023-02-23T13:14:25.995Z"
   },
   {
    "duration": 127,
    "start_time": "2023-02-23T13:19:30.189Z"
   },
   {
    "duration": 378,
    "start_time": "2023-02-23T13:24:17.479Z"
   },
   {
    "duration": 6,
    "start_time": "2023-02-23T13:24:21.658Z"
   },
   {
    "duration": 122,
    "start_time": "2023-02-23T13:24:23.377Z"
   },
   {
    "duration": 1100,
    "start_time": "2023-02-23T13:28:38.984Z"
   },
   {
    "duration": 349,
    "start_time": "2023-02-23T13:28:40.089Z"
   },
   {
    "duration": 5,
    "start_time": "2023-02-23T13:28:40.440Z"
   },
   {
    "duration": 128,
    "start_time": "2023-02-23T13:28:40.447Z"
   },
   {
    "duration": 17,
    "start_time": "2023-02-23T13:28:40.578Z"
   },
   {
    "duration": 16,
    "start_time": "2023-02-23T13:28:40.597Z"
   },
   {
    "duration": 14,
    "start_time": "2023-02-23T13:28:40.614Z"
   },
   {
    "duration": 199,
    "start_time": "2023-02-23T13:28:40.630Z"
   },
   {
    "duration": 179,
    "start_time": "2023-02-23T13:28:40.831Z"
   },
   {
    "duration": 5,
    "start_time": "2023-02-23T13:28:41.012Z"
   },
   {
    "duration": 13,
    "start_time": "2023-02-23T13:28:41.018Z"
   },
   {
    "duration": 272,
    "start_time": "2023-02-23T13:28:41.032Z"
   },
   {
    "duration": 4,
    "start_time": "2023-02-23T13:28:41.306Z"
   },
   {
    "duration": 265,
    "start_time": "2023-02-23T13:28:41.313Z"
   },
   {
    "duration": 157,
    "start_time": "2023-02-23T13:28:41.581Z"
   },
   {
    "duration": 264,
    "start_time": "2023-02-23T13:28:41.740Z"
   },
   {
    "duration": 195,
    "start_time": "2023-02-23T13:28:42.007Z"
   },
   {
    "duration": 225,
    "start_time": "2023-02-23T13:28:42.203Z"
   },
   {
    "duration": 163,
    "start_time": "2023-02-23T13:28:42.430Z"
   },
   {
    "duration": 5,
    "start_time": "2023-02-23T13:28:42.594Z"
   },
   {
    "duration": 169,
    "start_time": "2023-02-23T13:28:42.600Z"
   },
   {
    "duration": 213,
    "start_time": "2023-02-23T13:28:42.771Z"
   },
   {
    "duration": 4,
    "start_time": "2023-02-23T13:28:42.987Z"
   },
   {
    "duration": 147,
    "start_time": "2023-02-23T13:28:42.993Z"
   },
   {
    "duration": 29,
    "start_time": "2023-02-23T13:28:43.142Z"
   },
   {
    "duration": 34,
    "start_time": "2023-02-23T13:28:43.181Z"
   },
   {
    "duration": 11,
    "start_time": "2023-02-23T13:28:43.216Z"
   },
   {
    "duration": 40,
    "start_time": "2023-02-23T13:28:43.229Z"
   },
   {
    "duration": 23,
    "start_time": "2023-02-23T13:28:43.273Z"
   },
   {
    "duration": 376,
    "start_time": "2023-02-23T13:28:43.300Z"
   },
   {
    "duration": 151,
    "start_time": "2023-02-23T13:28:43.678Z"
   },
   {
    "duration": 279,
    "start_time": "2023-02-23T13:28:43.831Z"
   },
   {
    "duration": 10,
    "start_time": "2023-02-23T13:33:12.310Z"
   },
   {
    "duration": 14,
    "start_time": "2023-02-23T13:33:18.139Z"
   },
   {
    "duration": 11,
    "start_time": "2023-02-23T13:33:45.829Z"
   },
   {
    "duration": 1011,
    "start_time": "2023-02-23T13:37:51.014Z"
   },
   {
    "duration": 327,
    "start_time": "2023-02-23T13:37:52.027Z"
   },
   {
    "duration": 5,
    "start_time": "2023-02-23T13:37:52.358Z"
   },
   {
    "duration": 115,
    "start_time": "2023-02-23T13:37:52.370Z"
   },
   {
    "duration": 13,
    "start_time": "2023-02-23T13:37:52.487Z"
   },
   {
    "duration": 16,
    "start_time": "2023-02-23T13:37:52.502Z"
   },
   {
    "duration": 17,
    "start_time": "2023-02-23T13:37:52.520Z"
   },
   {
    "duration": 186,
    "start_time": "2023-02-23T13:37:52.538Z"
   },
   {
    "duration": 175,
    "start_time": "2023-02-23T13:37:52.726Z"
   },
   {
    "duration": 4,
    "start_time": "2023-02-23T13:37:52.904Z"
   },
   {
    "duration": 10,
    "start_time": "2023-02-23T13:37:52.910Z"
   },
   {
    "duration": 262,
    "start_time": "2023-02-23T13:37:52.922Z"
   },
   {
    "duration": 3,
    "start_time": "2023-02-23T13:37:53.186Z"
   },
   {
    "duration": 239,
    "start_time": "2023-02-23T13:37:53.191Z"
   },
   {
    "duration": 166,
    "start_time": "2023-02-23T13:37:53.432Z"
   },
   {
    "duration": 232,
    "start_time": "2023-02-23T13:37:53.600Z"
   },
   {
    "duration": 183,
    "start_time": "2023-02-23T13:37:53.834Z"
   },
   {
    "duration": 268,
    "start_time": "2023-02-23T13:37:54.020Z"
   },
   {
    "duration": 140,
    "start_time": "2023-02-23T13:37:54.290Z"
   },
   {
    "duration": 4,
    "start_time": "2023-02-23T13:37:54.432Z"
   },
   {
    "duration": 160,
    "start_time": "2023-02-23T13:37:54.438Z"
   },
   {
    "duration": 224,
    "start_time": "2023-02-23T13:37:54.600Z"
   },
   {
    "duration": 4,
    "start_time": "2023-02-23T13:37:54.825Z"
   },
   {
    "duration": 150,
    "start_time": "2023-02-23T13:37:54.831Z"
   },
   {
    "duration": 13,
    "start_time": "2023-02-23T13:37:54.983Z"
   },
   {
    "duration": 29,
    "start_time": "2023-02-23T13:37:54.997Z"
   },
   {
    "duration": 45,
    "start_time": "2023-02-23T13:37:55.027Z"
   },
   {
    "duration": 31,
    "start_time": "2023-02-23T13:37:55.077Z"
   },
   {
    "duration": 15,
    "start_time": "2023-02-23T13:37:55.110Z"
   },
   {
    "duration": 365,
    "start_time": "2023-02-23T13:37:55.127Z"
   },
   {
    "duration": 174,
    "start_time": "2023-02-23T13:37:55.497Z"
   },
   {
    "duration": 248,
    "start_time": "2023-02-23T13:37:55.673Z"
   }
  ],
  "kernelspec": {
   "display_name": "Python 3 (ipykernel)",
   "language": "python",
   "name": "python3"
  },
  "language_info": {
   "codemirror_mode": {
    "name": "ipython",
    "version": 3
   },
   "file_extension": ".py",
   "mimetype": "text/x-python",
   "name": "python",
   "nbconvert_exporter": "python",
   "pygments_lexer": "ipython3",
   "version": "3.9.16"
  },
  "toc": {
   "base_numbering": 1,
   "nav_menu": {},
   "number_sections": true,
   "sideBar": true,
   "skip_h1_title": true,
   "title_cell": "Оглавление",
   "title_sidebar": "Оглавление",
   "toc_cell": true,
   "toc_position": {
    "height": "calc(100% - 180px)",
    "left": "10px",
    "top": "150px",
    "width": "449px"
   },
   "toc_section_display": true,
   "toc_window_display": false
  }
 },
 "nbformat": 4,
 "nbformat_minor": 5
}
