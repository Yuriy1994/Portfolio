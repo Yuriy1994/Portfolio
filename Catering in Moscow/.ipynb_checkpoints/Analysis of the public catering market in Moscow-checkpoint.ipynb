version https://git-lfs.github.com/spec/v1
oid sha256:d44a10932b39b24e49b64a9ac9d44d85eafbb8dce0568473ee3ea67ed94b71c6
size 20350140
