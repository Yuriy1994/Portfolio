version https://git-lfs.github.com/spec/v1
oid sha256:ef99384a05b1ccaa5c07d40ac9315c102dff970d8a954b447524bbfcffc2bd29
size 16608746
