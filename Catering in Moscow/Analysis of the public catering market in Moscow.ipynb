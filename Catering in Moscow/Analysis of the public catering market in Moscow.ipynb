version https://git-lfs.github.com/spec/v1
oid sha256:7dbb19265fd9be20690ea950bb11562e3a65a3cf5b539867cc6c1067e0f164e4
size 17494039
