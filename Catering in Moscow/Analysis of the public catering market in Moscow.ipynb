version https://git-lfs.github.com/spec/v1
oid sha256:f064f4ca9d3f8791175016e99d0aed47ee42b729f692c26ace1eb82fa3915639
size 18134722
