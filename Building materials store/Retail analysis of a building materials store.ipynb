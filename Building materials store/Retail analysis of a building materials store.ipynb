version https://git-lfs.github.com/spec/v1
oid sha256:37719c5db1dada61a5035ac72832cd697adb76108c17345d634970660131040e
size 4117617
