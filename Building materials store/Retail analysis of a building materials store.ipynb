version https://git-lfs.github.com/spec/v1
oid sha256:32d752fd11d3ec0681e7a27c85230320d923f56cf2a5567f68a701e759fb73aa
size 4117922
